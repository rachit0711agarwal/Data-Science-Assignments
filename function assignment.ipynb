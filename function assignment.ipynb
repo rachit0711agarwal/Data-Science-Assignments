{
 "cells": [
  {
   "cell_type": "markdown",
   "id": "e65dc388-838a-41f6-b87e-fdd0db74b6ad",
   "metadata": {},
   "source": [
    "Ans1\n",
    "\n",
    "Python def keyword is used to define a function, it is placed before a function name that is provided by the user to create a user-defined function."
   ]
  },
  {
   "cell_type": "code",
   "execution_count": 4,
   "id": "23cac02c-5068-4b44-b7e0-8c26c2cfebd7",
   "metadata": {},
   "outputs": [
    {
     "name": "stdin",
     "output_type": "stream",
     "text": [
      "enter the number 25\n"
     ]
    },
    {
     "data": {
      "text/plain": [
       "[1, 3, 5, 7, 9, 11, 13, 15, 17, 19, 21, 23]"
      ]
     },
     "execution_count": 4,
     "metadata": {},
     "output_type": "execute_result"
    }
   ],
   "source": [
    "n=int(input('enter the number'))\n",
    "def odd_num(n):\n",
    "    a=[]\n",
    "    for i in range(1,n):\n",
    "        if i%2!=0:\n",
    "            a.append(i)\n",
    "    return(a)\n",
    "odd_num(n)"
   ]
  },
  {
   "cell_type": "markdown",
   "id": "2cd69097-4e16-43be-8e1a-0f16133aafa4",
   "metadata": {},
   "source": [
    "Ans2\n",
    "\n",
    "*args is used to pass a variable number of non-keyword arguments to a function. It allows you to pass any number of arguments to a function without knowing how many arguments there will be in advance. The * before the parameter name args tells Python to collect all the positional arguments into a tuple, which the function can then access.\n",
    "\n",
    "**kwargs is used to pass a variable number of keyword arguments to a function. It allows you to pass any number of keyword arguments to a function without knowing how many arguments there will be in advance. The ** before the parameter name kwargs tells Python to collect all the keyword arguments into a dictionary, which the function can then access\n",
    "\n"
   ]
  },
  {
   "cell_type": "code",
   "execution_count": 5,
   "id": "c56e9352-1d2b-4035-b3f7-b2e2d762a6c0",
   "metadata": {},
   "outputs": [],
   "source": [
    "def test1(*rac):\n",
    "    return rac"
   ]
  },
  {
   "cell_type": "code",
   "execution_count": 7,
   "id": "3d17eb80-e2c4-479f-9506-f5ebf23f8ad2",
   "metadata": {},
   "outputs": [
    {
     "data": {
      "text/plain": [
       "(1, 2, 3, 4, 5, 'rachit', 'agarwal')"
      ]
     },
     "execution_count": 7,
     "metadata": {},
     "output_type": "execute_result"
    }
   ],
   "source": [
    "test1(1,2,3,4,5,'rachit','agarwal')"
   ]
  },
  {
   "cell_type": "code",
   "execution_count": 8,
   "id": "6631efc8-ea49-4b9b-99f8-662a658c71c2",
   "metadata": {},
   "outputs": [],
   "source": [
    "def rest2(**aga):\n",
    "    return aga"
   ]
  },
  {
   "cell_type": "code",
   "execution_count": 9,
   "id": "ace91470-3daa-4423-85ad-7451e3821edc",
   "metadata": {},
   "outputs": [
    {
     "data": {
      "text/plain": [
       "{'a': 4, 'b': 9, 'c': 'rac', 'd': [1, 2, 3], 'e': (4, 5, 6)}"
      ]
     },
     "execution_count": 9,
     "metadata": {},
     "output_type": "execute_result"
    }
   ],
   "source": [
    "rest2(a=4,b=9,c='rac',d=[1,2,3],e=(4,5,6))"
   ]
  },
  {
   "cell_type": "markdown",
   "id": "cb4b17f2-f854-4eb5-9259-d645412bc42d",
   "metadata": {},
   "source": [
    "Ans3\n",
    "\n",
    "In Python, an iterator is an object that implements the iterator protocol, which requires it to provide two methods: __iter__() and __next__(). The __iter__() method returns the iterator object itself, and the __next__() method returns the next value from the iterator. When there are no more values to return, __next__() should raise the StopIteration exception.\n",
    "\n",
    "\n",
    "The process of iterating over an iterable using an iterator is called iteration. In Python, iteration is typically done using a for loop or a while loop.\n",
    "\n",
    "\n",
    "To create an iterator object in Python, you need to define a class that implements the __iter__() and __next__() methods. Alternatively, you can create an iterator object using a generator function, which is a function that uses the yield keyword to return a generator object. In either case, the iterator object can be initialized using the iter() method"
   ]
  },
  {
   "cell_type": "code",
   "execution_count": 12,
   "id": "06cdcfe5-412b-4073-a016-c5a7915886b8",
   "metadata": {},
   "outputs": [
    {
     "name": "stdout",
     "output_type": "stream",
     "text": [
      "2\n",
      "4\n",
      "6\n",
      "8\n",
      "10\n"
     ]
    }
   ],
   "source": [
    "##to print the first five elements of the given list [2, 4, 6, 8, 10, 12, 14, 16,18, 20]\n",
    "l=[2, 4, 6, 8, 10, 12, 14, 16,18, 20]\n",
    "a=iter(l)\n",
    "for i in range(5):\n",
    "    print(next(a))    "
   ]
  },
  {
   "cell_type": "markdown",
   "id": "320c21d0-d8f3-48ff-b51f-e293d32b8ce3",
   "metadata": {},
   "source": [
    "Ans4\n",
    "\n",
    "a generator function is a special type of function that uses the yield keyword to generate a sequence of values, one at a time, on the fly. Generator functions are used to create iterable objects, and they can be used to generate a large sequence of values without storing them all in memory at once. This can be useful when working with large data sets or when generating a sequence of values that may be too large to store in memory all at once\n",
    "\n",
    "\n",
    "The yield keyword is used in a generator function to produce a value and suspend the function's execution temporarily. When the function is called again, it resumes where it left off, using the previous state and any local variables that were saved. This allows the function to generate the next value in the sequence, and the process can continue until the sequence is complete.\n"
   ]
  },
  {
   "cell_type": "code",
   "execution_count": 13,
   "id": "347dab40-57e9-49c9-a180-48f536e208ce",
   "metadata": {},
   "outputs": [
    {
     "name": "stdin",
     "output_type": "stream",
     "text": [
      "enter the no 15\n"
     ]
    },
    {
     "name": "stdout",
     "output_type": "stream",
     "text": [
      "0\n",
      "1\n",
      "1\n",
      "2\n",
      "3\n",
      "5\n",
      "8\n",
      "13\n",
      "21\n",
      "34\n",
      "55\n",
      "89\n",
      "144\n",
      "233\n",
      "377\n"
     ]
    }
   ],
   "source": [
    "n=int(input('enter the no'))\n",
    "def test_fab(n):\n",
    "    \n",
    "    a,b=0,1\n",
    "    for i in range(n):\n",
    "        \n",
    "        yield a\n",
    "        a,b=b,a+b\n",
    "    \n",
    "for i in test_fab(n):\n",
    "      print(i)"
   ]
  },
  {
   "cell_type": "code",
   "execution_count": 5,
   "id": "932b6a43-4d91-420f-8662-7542430977ce",
   "metadata": {},
   "outputs": [
    {
     "name": "stdout",
     "output_type": "stream",
     "text": [
      "2\n",
      "3\n",
      "5\n",
      "7\n",
      "11\n",
      "13\n",
      "17\n",
      "19\n",
      "23\n",
      "29\n",
      "31\n",
      "37\n",
      "41\n",
      "43\n",
      "47\n",
      "53\n",
      "59\n",
      "61\n",
      "67\n",
      "71\n"
     ]
    }
   ],
   "source": [
    "#Ans5\n",
    "def primes():\n",
    "    num = 2\n",
    "    while num < 1000:\n",
    "        is_prime = True\n",
    "        for i in range(2, int(num ** 0.5) + 1):\n",
    "            if num % i == 0:\n",
    "                is_prime = False\n",
    "                break\n",
    "        if is_prime:\n",
    "            yield num\n",
    "        num += 1\n",
    "prime_generator = primes()\n",
    "for i in range(20):\n",
    "    print(next(prime_generator))"
   ]
  },
  {
   "cell_type": "code",
   "execution_count": null,
   "id": "1acb4f15-e6c8-41f4-9b08-fcfad96e6510",
   "metadata": {},
   "outputs": [],
   "source": []
  },
  {
   "cell_type": "code",
   "execution_count": null,
   "id": "05879c90-19a2-4a29-ad3f-417476ad3fc6",
   "metadata": {},
   "outputs": [],
   "source": []
  }
 ],
 "metadata": {
  "kernelspec": {
   "display_name": "Python 3 (ipykernel)",
   "language": "python",
   "name": "python3"
  },
  "language_info": {
   "codemirror_mode": {
    "name": "ipython",
    "version": 3
   },
   "file_extension": ".py",
   "mimetype": "text/x-python",
   "name": "python",
   "nbconvert_exporter": "python",
   "pygments_lexer": "ipython3",
   "version": "3.10.8"
  }
 },
 "nbformat": 4,
 "nbformat_minor": 5
}
