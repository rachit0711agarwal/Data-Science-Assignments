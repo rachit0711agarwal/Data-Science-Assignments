{
 "cells": [
  {
   "cell_type": "code",
   "execution_count": 2,
   "id": "7998b659-f9ad-4779-91e3-8154dc6c53ce",
   "metadata": {},
   "outputs": [
    {
     "name": "stdout",
     "output_type": "stream",
     "text": [
      "0\n",
      "1\n",
      "2\n",
      "3\n",
      "4\n",
      "5\n",
      "6\n",
      "7\n"
     ]
    }
   ],
   "source": [
    "i=0\n",
    "while i<8:\n",
    "    print(i)\n",
    "    i=i+1"
   ]
  },
  {
   "cell_type": "code",
   "execution_count": 3,
   "id": "708b3d0a-58a1-4a2b-9113-96183c4734ab",
   "metadata": {},
   "outputs": [
    {
     "data": {
      "text/plain": [
       "float"
      ]
     },
     "execution_count": 3,
     "metadata": {},
     "output_type": "execute_result"
    }
   ],
   "source": [
    "a=3.2\n",
    "type(a)"
   ]
  },
  {
   "cell_type": "code",
   "execution_count": 6,
   "id": "94e600d2-936d-4674-8420-9710322c6a58",
   "metadata": {},
   "outputs": [
    {
     "data": {
      "text/plain": [
       "str"
      ]
     },
     "execution_count": 6,
     "metadata": {},
     "output_type": "execute_result"
    }
   ],
   "source": [
    "a='mk'\n",
    "type(a)"
   ]
  },
  {
   "cell_type": "code",
   "execution_count": 8,
   "id": "ef1048c2-dea0-49ef-ac14-91f811baf15e",
   "metadata": {},
   "outputs": [
    {
     "name": "stdout",
     "output_type": "stream",
     "text": [
      "i study in class 12\n"
     ]
    }
   ],
   "source": [
    "std=12\n",
    "print('i study in class',std)"
   ]
  },
  {
   "cell_type": "code",
   "execution_count": 11,
   "id": "8fc10d7d-37db-4e54-8788-5c6123c54a13",
   "metadata": {},
   "outputs": [
    {
     "name": "stdout",
     "output_type": "stream",
     "text": [
      "i study in class 12\n"
     ]
    }
   ],
   "source": [
    "print(f'i study in class {std}')"
   ]
  },
  {
   "cell_type": "code",
   "execution_count": 13,
   "id": "904debca-ce43-47a3-9d5c-1d6c8a010a7c",
   "metadata": {},
   "outputs": [
    {
     "name": "stdout",
     "output_type": "stream",
     "text": [
      "my name is RA and age is 26\n"
     ]
    }
   ],
   "source": [
    "name='RA'\n",
    "age=26\n",
    "print('my name is {} and age is {}'.format(name,age))"
   ]
  },
  {
   "cell_type": "code",
   "execution_count": 14,
   "id": "0d217a65-c3be-4475-89a7-b7796adb9b54",
   "metadata": {},
   "outputs": [
    {
     "name": "stdout",
     "output_type": "stream",
     "text": [
      "my name is RA and age is 26\n"
     ]
    }
   ],
   "source": [
    "print('my name is {abc} and age is {xy}'.format(abc=name,xy=age))"
   ]
  },
  {
   "cell_type": "code",
   "execution_count": 15,
   "id": "c53d3e06-d9de-4257-bbfe-7a6fca2a82e8",
   "metadata": {},
   "outputs": [
    {
     "name": "stdout",
     "output_type": "stream",
     "text": [
      "my name is RA and age is 26\n"
     ]
    }
   ],
   "source": [
    "print('my name is {abc} and age is {xy}'.format(xy=age,abc=name))"
   ]
  },
  {
   "cell_type": "code",
   "execution_count": 17,
   "id": "8c2a50ec-1c97-4a1d-b9c7-733d3d22e0b4",
   "metadata": {},
   "outputs": [
    {
     "name": "stdin",
     "output_type": "stream",
     "text": [
      "enter your age 26\n"
     ]
    }
   ],
   "source": [
    "age= int(input('enter your age'))\n",
    "               "
   ]
  },
  {
   "cell_type": "code",
   "execution_count": 18,
   "id": "9c1aa427-a469-4c8d-a28d-e6646ee5c03c",
   "metadata": {},
   "outputs": [
    {
     "data": {
      "text/plain": [
       "26"
      ]
     },
     "execution_count": 18,
     "metadata": {},
     "output_type": "execute_result"
    }
   ],
   "source": [
    "age"
   ]
  },
  {
   "cell_type": "code",
   "execution_count": 27,
   "id": "0d20c774-f04c-4ed6-9306-592bf70d6538",
   "metadata": {},
   "outputs": [
    {
     "name": "stdin",
     "output_type": "stream",
     "text": [
      "enter your age 19\n"
     ]
    },
    {
     "name": "stdout",
     "output_type": "stream",
     "text": [
      "you r young blood\n"
     ]
    }
   ],
   "source": [
    "age= int(input('enter your age'))\n",
    "if age>=18 and age<=45:\n",
    "    print('you r young blood')\n",
    "else:\n",
    "    print('thank you contact asap')"
   ]
  },
  {
   "cell_type": "code",
   "execution_count": 33,
   "id": "70d7a3bf-784e-4204-9acf-ec15f5fafd39",
   "metadata": {},
   "outputs": [
    {
     "name": "stdin",
     "output_type": "stream",
     "text": [
      "enter the product price 1100\n"
     ]
    },
    {
     "name": "stdout",
     "output_type": "stream",
     "text": [
      "the price after dis is 880.0\n"
     ]
    }
   ],
   "source": [
    "price=int(input('enter the product price'))\n",
    "if price>1000:\n",
    "    print('the price after dis is',price*.8)\n",
    "if price<1000:\n",
    "    print('the price after dis is',price*.7)"
   ]
  },
  {
   "cell_type": "code",
   "execution_count": null,
   "id": "296f493f-44ee-41c2-8748-0b4ee03bca23",
   "metadata": {},
   "outputs": [],
   "source": []
  }
 ],
 "metadata": {
  "kernelspec": {
   "display_name": "Python 3 (ipykernel)",
   "language": "python",
   "name": "python3"
  },
  "language_info": {
   "codemirror_mode": {
    "name": "ipython",
    "version": 3
   },
   "file_extension": ".py",
   "mimetype": "text/x-python",
   "name": "python",
   "nbconvert_exporter": "python",
   "pygments_lexer": "ipython3",
   "version": "3.10.8"
  }
 },
 "nbformat": 4,
 "nbformat_minor": 5
}
