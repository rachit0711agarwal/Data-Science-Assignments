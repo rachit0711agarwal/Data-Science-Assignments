{
 "cells": [
  {
   "cell_type": "code",
   "execution_count": 25,
   "id": "c5473183-a9cb-473b-b920-98cb42d71de0",
   "metadata": {},
   "outputs": [
    {
     "name": "stdin",
     "output_type": "stream",
     "text": [
      "enter the percentage 56\n"
     ]
    },
    {
     "name": "stdout",
     "output_type": "stream",
     "text": [
      "Grade D\n"
     ]
    }
   ],
   "source": [
    "##ANS.1\n",
    "a=int(input('enter the percentage'))\n",
    "if a>90:\n",
    "    print('Grade A')\n",
    "elif a>80 and a<=90:\n",
    "         print('Grade B')\n",
    "elif a>=60 and a<=80:\n",
    "         print('Grade C')\n",
    "else:\n",
    "    print('Grade D')\n",
    "       "
   ]
  },
  {
   "cell_type": "code",
   "execution_count": 20,
   "id": "dabf7b88-c0cb-4d86-b469-437621d5750e",
   "metadata": {},
   "outputs": [
    {
     "name": "stdin",
     "output_type": "stream",
     "text": [
      "Enter the cost price 120000\n"
     ]
    },
    {
     "name": "stdout",
     "output_type": "stream",
     "text": [
      "Road Tax= 18000.0\n"
     ]
    }
   ],
   "source": [
    "##ANS.2\n",
    "a= int(input('Enter the cost price'))\n",
    "if a>100000:\n",
    "    print('Road Tax=',(a*.15))\n",
    "elif a>50000 and a<=100000:\n",
    "    print('Road Tax=',(a*.1))\n",
    "else:\n",
    "    print('Road Tax=',(a*.05))"
   ]
  },
  {
   "cell_type": "code",
   "execution_count": 24,
   "id": "a003fc3b-a386-4e57-b7c9-d8fe969702d4",
   "metadata": {},
   "outputs": [
    {
     "name": "stdin",
     "output_type": "stream",
     "text": [
      "Enter the city mathura\n"
     ]
    },
    {
     "name": "stdout",
     "output_type": "stream",
     "text": [
      "Thank you\n"
     ]
    }
   ],
   "source": [
    "##ANS.3\n",
    "a=input('Enter the city')\n",
    "if a=='Delhi':\n",
    "    print('Red Fort')\n",
    "elif a=='Agra':\n",
    "    print('Taj Mahal')\n",
    "elif a=='Jaipur':\n",
    "    print('Jal Mahal')\n",
    "else:\n",
    "    print('Thank you')\n",
    "\n"
   ]
  },
  {
   "cell_type": "code",
   "execution_count": 69,
   "id": "0d7db399-6182-4945-b3c5-affff70792ec",
   "metadata": {},
   "outputs": [
    {
     "name": "stdin",
     "output_type": "stream",
     "text": [
      "enter the digit 256\n"
     ]
    },
    {
     "name": "stdout",
     "output_type": "stream",
     "text": [
      "3\n"
     ]
    }
   ],
   "source": [
    "##ANS.4\n",
    "a=int(input(\"enter the digit\"))\n",
    "c=0\n",
    "while a:\n",
    "    a=a//3\n",
    "    c=c+1\n",
    "    if a<=10:\n",
    "        break\n",
    "    print(end=\"\")\n",
    "print(c)\n",
    "    \n",
    "    "
   ]
  },
  {
   "cell_type": "markdown",
   "id": "dca5061c-78c8-4e34-82db-d3cbbd7b015a",
   "metadata": {},
   "source": [
    "##ANS.5\n",
    "#Python while loop is used to run a block code until a certain condition is met.\n",
    "A while loop evaluates the condition\n",
    "If the condition evaluates to True, the code inside the while loop is executed condition is evaluated again.\n",
    "This process continues until the condition is False.\n",
    "When condition evaluates to False, the loop stops.\n"
   ]
  },
  {
   "cell_type": "code",
   "execution_count": 27,
   "id": "ea5c0caa-a72a-47ce-baf2-bde25e1444ff",
   "metadata": {},
   "outputs": [
    {
     "name": "stdout",
     "output_type": "stream",
     "text": [
      "1\n",
      "2\n",
      "3\n",
      "4\n",
      "5\n",
      "6\n",
      "7\n",
      "8\n",
      "9\n",
      "10\n"
     ]
    }
   ],
   "source": [
    "##Number print 1 to 10\n",
    "a=10\n",
    "i=1\n",
    "while i<=a:\n",
    "    print(i)\n",
    "    i=i+1"
   ]
  },
  {
   "cell_type": "code",
   "execution_count": 32,
   "id": "9d3389b5-3610-4669-be65-63fa63a8032b",
   "metadata": {},
   "outputs": [
    {
     "name": "stdin",
     "output_type": "stream",
     "text": [
      "enter the row 6\n"
     ]
    },
    {
     "name": "stdout",
     "output_type": "stream",
     "text": [
      "1\n",
      "12\n",
      "123\n",
      "1234\n",
      "12345\n"
     ]
    }
   ],
   "source": [
    "##ANS.6\n",
    "a=int(input('enter the row'))\n",
    "i =1\n",
    "while i<a:\n",
    "    j=1\n",
    "    while j<=i:\n",
    "        print(j,end=\"\")\n",
    "        j=j+1\n",
    "    print()\n",
    "    i=i+1\n",
    "        \n",
    "\n"
   ]
  },
  {
   "cell_type": "code",
   "execution_count": 59,
   "id": "2206ff91-46fe-47c0-a6ab-7397efcd2704",
   "metadata": {},
   "outputs": [
    {
     "name": "stdin",
     "output_type": "stream",
     "text": [
      "ENTER THE ROWS 5\n"
     ]
    },
    {
     "name": "stdout",
     "output_type": "stream",
     "text": [
      "54321\n",
      "5432\n",
      "543\n",
      "54\n",
      "5\n"
     ]
    }
   ],
   "source": [
    "a= int(input('ENTER THE ROWS'))\n",
    "i=1\n",
    "while i<=a:\n",
    "    j=a\n",
    "    while j>=i:\n",
    "        print(j,end='')\n",
    "        j=j-1\n",
    "    print()\n",
    "    i=i+1"
   ]
  },
  {
   "cell_type": "code",
   "execution_count": 67,
   "id": "d1fe35c3-f2c3-4bdd-9487-14a00f6e6752",
   "metadata": {},
   "outputs": [
    {
     "name": "stdin",
     "output_type": "stream",
     "text": [
      "enter the row 5\n"
     ]
    },
    {
     "name": "stdout",
     "output_type": "stream",
     "text": [
      " *\n",
      " * *\n",
      " * * *\n",
      " * * * *\n"
     ]
    }
   ],
   "source": [
    "\n",
    "a=int(input('enter the row'))\n",
    "i =1\n",
    "while i<a:\n",
    "    j=1\n",
    "    while j<=i:\n",
    "        print(' *',end=\"\")\n",
    "        j=j+1\n",
    "    print()\n",
    "    i=i+1\n",
    "        "
   ]
  },
  {
   "cell_type": "code",
   "execution_count": null,
   "id": "14d6bb5d-e4a4-473e-a67d-4349be391536",
   "metadata": {},
   "outputs": [],
   "source": [
    "##ANS.7\n",
    "a=10\n",
    "i=1\n",
    "while a>=i:\n",
    "    print(a)\n",
    "    a=a-1"
   ]
  },
  {
   "cell_type": "code",
   "execution_count": 29,
   "id": "43ee9c9b-db2c-4463-9407-c7a6b7ad913e",
   "metadata": {},
   "outputs": [
    {
     "name": "stdout",
     "output_type": "stream",
     "text": [
      "10\n",
      "9\n",
      "8\n",
      "7\n",
      "6\n",
      "5\n",
      "4\n",
      "3\n",
      "2\n",
      "1\n"
     ]
    }
   ],
   "source": [
    "##ANS.8\n",
    "a=10\n",
    "i=1\n",
    "while a>=i:\n",
    "    print(a)\n",
    "    a=a-1"
   ]
  }
 ],
 "metadata": {
  "kernelspec": {
   "display_name": "Python 3 (ipykernel)",
   "language": "python",
   "name": "python3"
  },
  "language_info": {
   "codemirror_mode": {
    "name": "ipython",
    "version": 3
   },
   "file_extension": ".py",
   "mimetype": "text/x-python",
   "name": "python",
   "nbconvert_exporter": "python",
   "pygments_lexer": "ipython3",
   "version": "3.10.8"
  }
 },
 "nbformat": 4,
 "nbformat_minor": 5
}
