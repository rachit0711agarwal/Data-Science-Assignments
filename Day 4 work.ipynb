{
 "cells": [
  {
   "cell_type": "code",
   "execution_count": 1,
   "id": "3a2e6842-809c-4fd4-9594-2ea8b1b2d933",
   "metadata": {},
   "outputs": [],
   "source": [
    "a ='data science masters'"
   ]
  },
  {
   "cell_type": "code",
   "execution_count": 2,
   "id": "1761048b-9855-481a-90f7-a96461b41572",
   "metadata": {},
   "outputs": [
    {
     "data": {
      "text/plain": [
       "'Data science masters'"
      ]
     },
     "execution_count": 2,
     "metadata": {},
     "output_type": "execute_result"
    }
   ],
   "source": [
    "a.capitalize()"
   ]
  },
  {
   "cell_type": "code",
   "execution_count": 4,
   "id": "24801a49-7854-4252-b229-453dfc0d9eff",
   "metadata": {},
   "outputs": [
    {
     "data": {
      "text/plain": [
       "'d  a  t  a     s  c  i  e  n  c  e     m  a  s  t  e  r  s'"
      ]
     },
     "execution_count": 4,
     "metadata": {},
     "output_type": "execute_result"
    }
   ],
   "source": [
    "\"  \".join(a)"
   ]
  },
  {
   "cell_type": "code",
   "execution_count": 6,
   "id": "ad338a95-5512-46fc-8dc1-30876f930688",
   "metadata": {},
   "outputs": [
    {
     "data": {
      "text/plain": [
       "'d*a*t*a* *s*c*i*e*n*c*e* *m*a*s*t*e*r*s'"
      ]
     },
     "execution_count": 6,
     "metadata": {},
     "output_type": "execute_result"
    }
   ],
   "source": [
    "'*'.join(a)"
   ]
  },
  {
   "cell_type": "code",
   "execution_count": 7,
   "id": "294edfec-61b6-4ac1-b3c0-3705af6cc368",
   "metadata": {},
   "outputs": [
    {
     "data": {
      "text/plain": [
       "'dpwapwtpwapw pwspwcpwipwepwnpwcpwepw pwmpwapwspwtpwepwrpws'"
      ]
     },
     "execution_count": 7,
     "metadata": {},
     "output_type": "execute_result"
    }
   ],
   "source": [
    "'pw'.join(a)"
   ]
  },
  {
   "cell_type": "code",
   "execution_count": 8,
   "id": "b5ec0b49-5458-4679-8628-a113dbb6b0cc",
   "metadata": {},
   "outputs": [
    {
     "data": {
      "text/plain": [
       "<reversed at 0x7f024c1c2a70>"
      ]
     },
     "execution_count": 8,
     "metadata": {},
     "output_type": "execute_result"
    }
   ],
   "source": [
    "reversed(a)"
   ]
  },
  {
   "cell_type": "code",
   "execution_count": 9,
   "id": "66ac0720-6f28-430c-a147-7938161cfb0c",
   "metadata": {},
   "outputs": [
    {
     "data": {
      "text/plain": [
       "'s r e t s a m   e c n e i c s   a t a d'"
      ]
     },
     "execution_count": 9,
     "metadata": {},
     "output_type": "execute_result"
    }
   ],
   "source": [
    "' '.join(reversed(a))"
   ]
  },
  {
   "cell_type": "code",
   "execution_count": 12,
   "id": "39aa5b43-18ba-4b23-a2c0-ac0964e57de5",
   "metadata": {},
   "outputs": [],
   "source": [
    "b='rachit'\n"
   ]
  },
  {
   "cell_type": "code",
   "execution_count": 13,
   "id": "4fd6f4ea-b406-4493-bc18-1293c8d7a383",
   "metadata": {},
   "outputs": [
    {
     "data": {
      "text/plain": [
       "['t', 'i', 'h', 'c', 'a', 'r']"
      ]
     },
     "execution_count": 13,
     "metadata": {},
     "output_type": "execute_result"
    }
   ],
   "source": [
    "list(reversed(b))"
   ]
  },
  {
   "cell_type": "code",
   "execution_count": 14,
   "id": "6d834968-6719-4962-bcef-3cd33d008094",
   "metadata": {},
   "outputs": [
    {
     "data": {
      "text/plain": [
       "['a', ' ', 't', 'i', 'h', 'c', 'a', 'r']"
      ]
     },
     "execution_count": 14,
     "metadata": {},
     "output_type": "execute_result"
    }
   ],
   "source": [
    "b='rachit a'\n",
    "list(reversed(b))"
   ]
  },
  {
   "cell_type": "code",
   "execution_count": 20,
   "id": "a0959b41-9311-4a1c-8dc2-ad1ab991fd72",
   "metadata": {},
   "outputs": [
    {
     "data": {
      "text/plain": [
       "'data science masters'"
      ]
     },
     "execution_count": 20,
     "metadata": {},
     "output_type": "execute_result"
    }
   ],
   "source": [
    "a.strip(' ')"
   ]
  },
  {
   "cell_type": "code",
   "execution_count": 21,
   "id": "3fde5617-17f2-4e71-b3d4-0fbc4d8709c6",
   "metadata": {},
   "outputs": [
    {
     "data": {
      "text/plain": [
       "'rachit a'"
      ]
     },
     "execution_count": 21,
     "metadata": {},
     "output_type": "execute_result"
    }
   ],
   "source": [
    "b.strip('c')"
   ]
  },
  {
   "cell_type": "code",
   "execution_count": 23,
   "id": "c6a27e7b-e266-4ed3-92c3-8b83a721d4a2",
   "metadata": {},
   "outputs": [
    {
     "data": {
      "text/plain": [
       "'lkjgfa jjjj'"
      ]
     },
     "execution_count": 23,
     "metadata": {},
     "output_type": "execute_result"
    }
   ],
   "source": [
    "d=' lkjgfa jjjj '\n",
    "d.strip(' ')"
   ]
  },
  {
   "cell_type": "code",
   "execution_count": 26,
   "id": "f3a560a4-7b73-482d-bfa2-823c7a272ee7",
   "metadata": {},
   "outputs": [
    {
     "data": {
      "text/plain": [
       "'lkjgfa jjjj '"
      ]
     },
     "execution_count": 26,
     "metadata": {},
     "output_type": "execute_result"
    }
   ],
   "source": [
    "d.lstrip()"
   ]
  },
  {
   "cell_type": "code",
   "execution_count": 27,
   "id": "d90b7db9-1d0b-459d-89af-54fb02627d2c",
   "metadata": {},
   "outputs": [
    {
     "data": {
      "text/plain": [
       "' lkjgfa jjjj'"
      ]
     },
     "execution_count": 27,
     "metadata": {},
     "output_type": "execute_result"
    }
   ],
   "source": [
    "d.rstrip()"
   ]
  },
  {
   "cell_type": "code",
   "execution_count": 28,
   "id": "706fc18c-a239-42b4-becb-4a4b7ae76f35",
   "metadata": {},
   "outputs": [
    {
     "data": {
      "text/plain": [
       "'delta science masters'"
      ]
     },
     "execution_count": 28,
     "metadata": {},
     "output_type": "execute_result"
    }
   ],
   "source": [
    "a.replace('data','delta')"
   ]
  },
  {
   "cell_type": "code",
   "execution_count": 29,
   "id": "7fe4650b-e232-436e-864b-3ce3322b5808",
   "metadata": {},
   "outputs": [
    {
     "data": {
      "text/plain": [
       "'dztz science mzsters'"
      ]
     },
     "execution_count": 29,
     "metadata": {},
     "output_type": "execute_result"
    }
   ],
   "source": [
    "a.replace('a','z')"
   ]
  },
  {
   "cell_type": "code",
   "execution_count": 30,
   "id": "6da2b6c1-6a1e-4f7d-a916-65be94bba8df",
   "metadata": {},
   "outputs": [
    {
     "data": {
      "text/plain": [
       "'Welcome to pwskills.Welcome to data science masters'"
      ]
     },
     "execution_count": 30,
     "metadata": {},
     "output_type": "execute_result"
    }
   ],
   "source": [
    "STR1='Welcome to pwskills.Welcome to dat cience masters'\n",
    "STR1.replace('dat cience','data science')"
   ]
  },
  {
   "cell_type": "code",
   "execution_count": 32,
   "id": "dfe6b668-1dab-48ec-9acb-d6acc40b91e1",
   "metadata": {},
   "outputs": [
    {
     "data": {
      "text/plain": [
       "'Welcome to pwskills.Welcome to data science masters'"
      ]
     },
     "execution_count": 32,
     "metadata": {},
     "output_type": "execute_result"
    }
   ],
   "source": [
    "STR1.replace('dat','data').replace('cience','science')"
   ]
  },
  {
   "cell_type": "code",
   "execution_count": 33,
   "id": "64083e02-7702-4e2b-92d2-30266428b38e",
   "metadata": {},
   "outputs": [
    {
     "data": {
      "text/plain": [
       "False"
      ]
     },
     "execution_count": 33,
     "metadata": {},
     "output_type": "execute_result"
    }
   ],
   "source": [
    "a.isupper()"
   ]
  },
  {
   "cell_type": "code",
   "execution_count": 34,
   "id": "b24655e1-29f9-42cc-933d-948df5dbab24",
   "metadata": {},
   "outputs": [
    {
     "data": {
      "text/plain": [
       "True"
      ]
     },
     "execution_count": 34,
     "metadata": {},
     "output_type": "execute_result"
    }
   ],
   "source": [
    "a.islower()"
   ]
  },
  {
   "cell_type": "code",
   "execution_count": 35,
   "id": "693aead7-2330-43bd-b91e-1f261c123e6d",
   "metadata": {},
   "outputs": [
    {
     "data": {
      "text/plain": [
       "False"
      ]
     },
     "execution_count": 35,
     "metadata": {},
     "output_type": "execute_result"
    }
   ],
   "source": [
    "a.isspace()"
   ]
  },
  {
   "cell_type": "code",
   "execution_count": 41,
   "id": "9edc4737-94b5-4afd-a6d8-aaee648087dd",
   "metadata": {},
   "outputs": [
    {
     "data": {
      "text/plain": [
       "False"
      ]
     },
     "execution_count": 41,
     "metadata": {},
     "output_type": "execute_result"
    }
   ],
   "source": [
    "\n",
    "a.endswith('a')"
   ]
  },
  {
   "cell_type": "code",
   "execution_count": 42,
   "id": "ea15ee57-467c-40e2-817b-a23ff8bfcad3",
   "metadata": {},
   "outputs": [
    {
     "data": {
      "text/plain": [
       "True"
      ]
     },
     "execution_count": 42,
     "metadata": {},
     "output_type": "execute_result"
    }
   ],
   "source": [
    "a.startswith('d')"
   ]
  },
  {
   "cell_type": "code",
   "execution_count": 43,
   "id": "43c4f4c2-2f5c-4ef6-a052-9d85cfd9351f",
   "metadata": {},
   "outputs": [
    {
     "data": {
      "text/plain": [
       "False"
      ]
     },
     "execution_count": 43,
     "metadata": {},
     "output_type": "execute_result"
    }
   ],
   "source": [
    "a.isalnum()"
   ]
  },
  {
   "cell_type": "code",
   "execution_count": 45,
   "id": "12591311-6bc0-4557-87eb-2b1a55063ff8",
   "metadata": {},
   "outputs": [
    {
     "data": {
      "text/plain": [
       "True"
      ]
     },
     "execution_count": 45,
     "metadata": {},
     "output_type": "execute_result"
    }
   ],
   "source": [
    "z='qwet5678'\n",
    "z.isalnum()"
   ]
  },
  {
   "cell_type": "code",
   "execution_count": null,
   "id": "9e7f1b3c-fc65-47e0-ace5-65573bd10eda",
   "metadata": {},
   "outputs": [],
   "source": []
  },
  {
   "cell_type": "code",
   "execution_count": 48,
   "id": "4f8ba479-4eda-4404-b703-320bfcb2926f",
   "metadata": {},
   "outputs": [
    {
     "name": "stdout",
     "output_type": "stream",
     "text": [
      "r is not vowel\n",
      "a is vowel\n",
      "c is not vowel\n",
      "h is not vowel\n",
      "i is vowel\n",
      "t is not vowel\n"
     ]
    }
   ],
   "source": [
    "vowel='aeiou'\n",
    "name= 'rachit'\n",
    "for i in name:\n",
    "    if i in vowel:\n",
    "        print('{} is vowel'.format(i))\n",
    "    else:\n",
    "        print('{} is not vowel'.format(i))"
   ]
  },
  {
   "cell_type": "code",
   "execution_count": 50,
   "id": "c5e8f4df-f426-402e-a99b-0e4bea13d17a",
   "metadata": {},
   "outputs": [
    {
     "data": {
      "text/plain": [
       "6"
      ]
     },
     "execution_count": 50,
     "metadata": {},
     "output_type": "execute_result"
    }
   ],
   "source": [
    "len(name)"
   ]
  },
  {
   "cell_type": "code",
   "execution_count": 52,
   "id": "88513a8a-1151-48ab-856f-240b1f8fa242",
   "metadata": {},
   "outputs": [],
   "source": [
    "##list"
   ]
  },
  {
   "cell_type": "code",
   "execution_count": 2,
   "id": "43c86de2-ad3d-4b68-a8ca-e78e3a5cae18",
   "metadata": {},
   "outputs": [
    {
     "data": {
      "text/plain": [
       "list"
      ]
     },
     "execution_count": 2,
     "metadata": {},
     "output_type": "execute_result"
    }
   ],
   "source": [
    "a='data science'\n",
    "list"
   ]
  },
  {
   "cell_type": "code",
   "execution_count": 3,
   "id": "46efb836-da06-4bfd-8e22-495ae227c832",
   "metadata": {},
   "outputs": [
    {
     "data": {
      "text/plain": [
       "['data', 'science']"
      ]
     },
     "execution_count": 3,
     "metadata": {},
     "output_type": "execute_result"
    }
   ],
   "source": [
    "list(a.split(' '))"
   ]
  },
  {
   "cell_type": "code",
   "execution_count": 4,
   "id": "377b63cd-e486-4819-bb14-7c02e9cab3aa",
   "metadata": {},
   "outputs": [
    {
     "data": {
      "text/plain": [
       "['data', 'science']"
      ]
     },
     "execution_count": 4,
     "metadata": {},
     "output_type": "execute_result"
    }
   ],
   "source": [
    "a.split(' ')"
   ]
  },
  {
   "cell_type": "code",
   "execution_count": 5,
   "id": "a57e6aa4-7ec3-4e6a-9d49-03381d616393",
   "metadata": {},
   "outputs": [
    {
     "data": {
      "text/plain": [
       "'d'"
      ]
     },
     "execution_count": 5,
     "metadata": {},
     "output_type": "execute_result"
    }
   ],
   "source": [
    "a[0]"
   ]
  },
  {
   "cell_type": "code",
   "execution_count": 6,
   "id": "7729f530-a268-4d46-9aff-e9d6159f8376",
   "metadata": {},
   "outputs": [],
   "source": [
    "lst1=list(a)"
   ]
  },
  {
   "cell_type": "code",
   "execution_count": 7,
   "id": "adc21ca6-4cee-4d28-a7dd-8c73ed11e8ee",
   "metadata": {},
   "outputs": [
    {
     "data": {
      "text/plain": [
       "['d', 'a', 't', 'a', ' ', 's', 'c', 'i', 'e', 'n', 'c', 'e']"
      ]
     },
     "execution_count": 7,
     "metadata": {},
     "output_type": "execute_result"
    }
   ],
   "source": [
    "lst1"
   ]
  },
  {
   "cell_type": "code",
   "execution_count": 8,
   "id": "6bee48e5-bca0-4825-90f5-1310d616a59a",
   "metadata": {},
   "outputs": [
    {
     "data": {
      "text/plain": [
       "'d'"
      ]
     },
     "execution_count": 8,
     "metadata": {},
     "output_type": "execute_result"
    }
   ],
   "source": [
    "a[0]"
   ]
  },
  {
   "cell_type": "code",
   "execution_count": 9,
   "id": "906a1b3f-3f96-4715-b80e-6bb20b866a78",
   "metadata": {},
   "outputs": [
    {
     "data": {
      "text/plain": [
       "'d'"
      ]
     },
     "execution_count": 9,
     "metadata": {},
     "output_type": "execute_result"
    }
   ],
   "source": [
    "lst1[0]\n"
   ]
  },
  {
   "cell_type": "code",
   "execution_count": 10,
   "id": "45fc0c03-3e68-4332-9869-b67950511203",
   "metadata": {},
   "outputs": [],
   "source": [
    "lst1[0]='h'"
   ]
  },
  {
   "cell_type": "code",
   "execution_count": 11,
   "id": "28ffdc09-2b53-491f-a0ae-c76f65690ae6",
   "metadata": {},
   "outputs": [
    {
     "data": {
      "text/plain": [
       "'h'"
      ]
     },
     "execution_count": 11,
     "metadata": {},
     "output_type": "execute_result"
    }
   ],
   "source": [
    "lst1[0]"
   ]
  },
  {
   "cell_type": "code",
   "execution_count": 12,
   "id": "6cb92b98-ef96-4af1-8450-f8a3c45dbdc8",
   "metadata": {},
   "outputs": [
    {
     "data": {
      "text/plain": [
       "['h', 'a', 't', 'a', ' ', 's', 'c', 'i', 'e', 'n', 'c', 'e']"
      ]
     },
     "execution_count": 12,
     "metadata": {},
     "output_type": "execute_result"
    }
   ],
   "source": [
    "lst1"
   ]
  },
  {
   "cell_type": "code",
   "execution_count": 13,
   "id": "d37f8254-4bc3-404c-8c95-d29563af01bc",
   "metadata": {},
   "outputs": [
    {
     "data": {
      "text/plain": [
       "['h', 'a', 't', 'a', ' ', 's', 'c', 'i', 'e', 'n', 'c', 'e', 'mango']"
      ]
     },
     "execution_count": 13,
     "metadata": {},
     "output_type": "execute_result"
    }
   ],
   "source": [
    "lst1 + ['mango']"
   ]
  },
  {
   "cell_type": "code",
   "execution_count": 14,
   "id": "b350acda-c876-445e-b1d1-e0bd707f2d7e",
   "metadata": {},
   "outputs": [],
   "source": [
    "lst2=lst1 +[['mango'],'apple']"
   ]
  },
  {
   "cell_type": "code",
   "execution_count": 15,
   "id": "284cee58-fc05-4012-81b1-ae2c8f7a56f5",
   "metadata": {},
   "outputs": [
    {
     "data": {
      "text/plain": [
       "['h',\n",
       " 'a',\n",
       " 't',\n",
       " 'a',\n",
       " ' ',\n",
       " 's',\n",
       " 'c',\n",
       " 'i',\n",
       " 'e',\n",
       " 'n',\n",
       " 'c',\n",
       " 'e',\n",
       " ['mango'],\n",
       " 'apple']"
      ]
     },
     "execution_count": 15,
     "metadata": {},
     "output_type": "execute_result"
    }
   ],
   "source": [
    "lst2"
   ]
  },
  {
   "cell_type": "code",
   "execution_count": 16,
   "id": "df3e6b27-1800-4eed-8473-ee093e79073e",
   "metadata": {},
   "outputs": [
    {
     "data": {
      "text/plain": [
       "'apple'"
      ]
     },
     "execution_count": 16,
     "metadata": {},
     "output_type": "execute_result"
    }
   ],
   "source": [
    "lst2[-1]"
   ]
  },
  {
   "cell_type": "code",
   "execution_count": 17,
   "id": "2c04e214-9745-4cbf-a416-28a5a07fd490",
   "metadata": {},
   "outputs": [
    {
     "data": {
      "text/plain": [
       "['mango']"
      ]
     },
     "execution_count": 17,
     "metadata": {},
     "output_type": "execute_result"
    }
   ],
   "source": [
    "lst2[-2]"
   ]
  },
  {
   "cell_type": "code",
   "execution_count": 18,
   "id": "4be32699-423f-467c-8eee-e10f2794dabc",
   "metadata": {},
   "outputs": [
    {
     "data": {
      "text/plain": [
       "'mango'"
      ]
     },
     "execution_count": 18,
     "metadata": {},
     "output_type": "execute_result"
    }
   ],
   "source": [
    "lst2[-2][0]"
   ]
  },
  {
   "cell_type": "code",
   "execution_count": 19,
   "id": "b78fe993-4ed6-41a7-a9ab-41ebe8e7190b",
   "metadata": {},
   "outputs": [
    {
     "data": {
      "text/plain": [
       "['h',\n",
       " 'a',\n",
       " 't',\n",
       " 'a',\n",
       " ' ',\n",
       " 's',\n",
       " 'c',\n",
       " 'i',\n",
       " 'e',\n",
       " 'n',\n",
       " 'c',\n",
       " 'e',\n",
       " ['mango'],\n",
       " 'apple']"
      ]
     },
     "execution_count": 19,
     "metadata": {},
     "output_type": "execute_result"
    }
   ],
   "source": [
    "lst2"
   ]
  },
  {
   "cell_type": "code",
   "execution_count": 20,
   "id": "8cf0f750-b229-4bf6-82ed-5d2b9fa6316d",
   "metadata": {},
   "outputs": [],
   "source": [
    "lst2=lst2*2"
   ]
  },
  {
   "cell_type": "code",
   "execution_count": 21,
   "id": "c58fd1f3-cac8-4f69-a432-84c1047d6180",
   "metadata": {},
   "outputs": [
    {
     "data": {
      "text/plain": [
       "['h',\n",
       " 'a',\n",
       " 't',\n",
       " 'a',\n",
       " ' ',\n",
       " 's',\n",
       " 'c',\n",
       " 'i',\n",
       " 'e',\n",
       " 'n',\n",
       " 'c',\n",
       " 'e',\n",
       " ['mango'],\n",
       " 'apple',\n",
       " 'h',\n",
       " 'a',\n",
       " 't',\n",
       " 'a',\n",
       " ' ',\n",
       " 's',\n",
       " 'c',\n",
       " 'i',\n",
       " 'e',\n",
       " 'n',\n",
       " 'c',\n",
       " 'e',\n",
       " ['mango'],\n",
       " 'apple']"
      ]
     },
     "execution_count": 21,
     "metadata": {},
     "output_type": "execute_result"
    }
   ],
   "source": [
    "lst2"
   ]
  },
  {
   "cell_type": "code",
   "execution_count": 22,
   "id": "2a82f044-032d-41b1-afb1-7395b2bc764c",
   "metadata": {},
   "outputs": [
    {
     "name": "stdout",
     "output_type": "stream",
     "text": [
      "present\n"
     ]
    }
   ],
   "source": [
    "if 'apple' in lst2:\n",
    "    print('present')"
   ]
  },
  {
   "cell_type": "code",
   "execution_count": 23,
   "id": "9e97d803-7e6c-4df7-9622-b622cb305092",
   "metadata": {},
   "outputs": [
    {
     "name": "stdin",
     "output_type": "stream",
     "text": [
      " s\n"
     ]
    },
    {
     "name": "stdout",
     "output_type": "stream",
     "text": [
      "your input is present\n"
     ]
    }
   ],
   "source": [
    "j=input()\n",
    "if j in lst2:\n",
    "    print('your input is present')\n",
    "else:\n",
    "    print('your input is absent')"
   ]
  },
  {
   "cell_type": "code",
   "execution_count": 124,
   "id": "f36fe012-ac9f-4a38-97cb-4d7b2ac8e150",
   "metadata": {},
   "outputs": [
    {
     "name": "stdin",
     "output_type": "stream",
     "text": [
      " [mango]\n"
     ]
    },
    {
     "name": "stdout",
     "output_type": "stream",
     "text": [
      "your input is absent\n"
     ]
    }
   ],
   "source": [
    "j=input()\n",
    "if j in lst2:\n",
    "    print('your input is present')\n",
    "else:\n",
    "    print('your input is absent')"
   ]
  },
  {
   "cell_type": "code",
   "execution_count": 146,
   "id": "03cbdf0d-4778-4e54-8dc9-62c23175067a",
   "metadata": {},
   "outputs": [
    {
     "name": "stdout",
     "output_type": "stream",
     "text": [
      "hurry\n"
     ]
    }
   ],
   "source": [
    "lst3=['rac','aga','rak','dee']\n",
    "for elements in lst3:\n",
    "    if elements=='rac':\n",
    "        print('hurry')\n",
    "        "
   ]
  },
  {
   "cell_type": "code",
   "execution_count": 141,
   "id": "31e70415-34eb-4803-bb58-70991b1add31",
   "metadata": {},
   "outputs": [
    {
     "data": {
      "text/plain": [
       "'rak'"
      ]
     },
     "execution_count": 141,
     "metadata": {},
     "output_type": "execute_result"
    }
   ],
   "source": [
    "max(lst3)"
   ]
  },
  {
   "cell_type": "code",
   "execution_count": 142,
   "id": "c3c33cba-9b5d-4d88-a65b-464eb796107b",
   "metadata": {},
   "outputs": [
    {
     "data": {
      "text/plain": [
       "'aga'"
      ]
     },
     "execution_count": 142,
     "metadata": {},
     "output_type": "execute_result"
    }
   ],
   "source": [
    "min(lst3)"
   ]
  },
  {
   "cell_type": "code",
   "execution_count": 25,
   "id": "f4f9cebc-c5b5-4ab1-8d3a-603346abbf84",
   "metadata": {},
   "outputs": [],
   "source": [
    "lst=[1,2,3,4,5]"
   ]
  },
  {
   "cell_type": "code",
   "execution_count": 26,
   "id": "edeaacc7-63c8-4cc0-b4fa-94e6f756b435",
   "metadata": {},
   "outputs": [
    {
     "data": {
      "text/plain": [
       "[1, 2, 3, 4, 5]"
      ]
     },
     "execution_count": 26,
     "metadata": {},
     "output_type": "execute_result"
    }
   ],
   "source": [
    "lst"
   ]
  },
  {
   "cell_type": "code",
   "execution_count": 36,
   "id": "55728b4a-3e5d-4823-bc6e-239f5e38a4b5",
   "metadata": {},
   "outputs": [],
   "source": [
    "lst.append('kgf')"
   ]
  },
  {
   "cell_type": "code",
   "execution_count": 37,
   "id": "be3a1eb3-48bb-4af2-a556-a9bc31cefc88",
   "metadata": {},
   "outputs": [
    {
     "data": {
      "text/plain": [
       "[1, 2, 3, 4, 5, 'kgf', 'kgf', 'kgf', 'kgf', 'kgf', 'kgf']"
      ]
     },
     "execution_count": 37,
     "metadata": {},
     "output_type": "execute_result"
    }
   ],
   "source": [
    "lst"
   ]
  },
  {
   "cell_type": "code",
   "execution_count": 39,
   "id": "7bf92278-422d-4d17-8f28-db9dca1c28f9",
   "metadata": {},
   "outputs": [
    {
     "data": {
      "text/plain": [
       "5"
      ]
     },
     "execution_count": 39,
     "metadata": {},
     "output_type": "execute_result"
    }
   ],
   "source": [
    "lst=[1,2,3,4,5]\n",
    "lst.pop()"
   ]
  },
  {
   "cell_type": "code",
   "execution_count": 40,
   "id": "8a46564b-3986-4ffa-9b9b-a7be78173dab",
   "metadata": {},
   "outputs": [
    {
     "data": {
      "text/plain": [
       "[1, 2, 3, 4]"
      ]
     },
     "execution_count": 40,
     "metadata": {},
     "output_type": "execute_result"
    }
   ],
   "source": [
    "lst"
   ]
  },
  {
   "cell_type": "code",
   "execution_count": 41,
   "id": "cfbf0ca5-27e0-4e62-af3e-c882ac42a8a7",
   "metadata": {},
   "outputs": [
    {
     "data": {
      "text/plain": [
       "3"
      ]
     },
     "execution_count": 41,
     "metadata": {},
     "output_type": "execute_result"
    }
   ],
   "source": [
    "lst.pop(2)"
   ]
  },
  {
   "cell_type": "code",
   "execution_count": 43,
   "id": "cdacdbb3-4bc4-4a4a-9831-f85ed30b4863",
   "metadata": {},
   "outputs": [
    {
     "data": {
      "text/plain": [
       "[1, 2, 4]"
      ]
     },
     "execution_count": 43,
     "metadata": {},
     "output_type": "execute_result"
    }
   ],
   "source": [
    "lst"
   ]
  },
  {
   "cell_type": "code",
   "execution_count": 51,
   "id": "5a83c9a8-037e-4a9f-b3ec-f27c01253a5e",
   "metadata": {},
   "outputs": [],
   "source": [
    "lst=[4,3,2,5,6]"
   ]
  },
  {
   "cell_type": "code",
   "execution_count": 52,
   "id": "bb24746b-a87d-4554-96c4-3574a4792422",
   "metadata": {},
   "outputs": [],
   "source": [
    "lst.reverse()"
   ]
  },
  {
   "cell_type": "code",
   "execution_count": 53,
   "id": "f3bd4998-bbc4-4aea-a35b-c3a63e42bd21",
   "metadata": {},
   "outputs": [
    {
     "data": {
      "text/plain": [
       "[6, 5, 2, 3, 4]"
      ]
     },
     "execution_count": 53,
     "metadata": {},
     "output_type": "execute_result"
    }
   ],
   "source": [
    "lst"
   ]
  },
  {
   "cell_type": "code",
   "execution_count": 54,
   "id": "85107a80-482a-46b7-8323-7ff8261ab601",
   "metadata": {},
   "outputs": [],
   "source": [
    "lst.sort()"
   ]
  },
  {
   "cell_type": "code",
   "execution_count": 55,
   "id": "4bb7c3f6-73ec-4472-ada3-867cea6b53eb",
   "metadata": {},
   "outputs": [
    {
     "data": {
      "text/plain": [
       "[2, 3, 4, 5, 6]"
      ]
     },
     "execution_count": 55,
     "metadata": {},
     "output_type": "execute_result"
    }
   ],
   "source": [
    "lst"
   ]
  },
  {
   "cell_type": "code",
   "execution_count": 58,
   "id": "8341a081-a66c-4d8a-bc34-f183a5e47680",
   "metadata": {},
   "outputs": [],
   "source": [
    "lst.sort()"
   ]
  },
  {
   "cell_type": "code",
   "execution_count": 59,
   "id": "d7a66091-ca97-4190-92dd-b6607d987bdc",
   "metadata": {},
   "outputs": [
    {
     "data": {
      "text/plain": [
       "[2, 3, 4, 5, 6]"
      ]
     },
     "execution_count": 59,
     "metadata": {},
     "output_type": "execute_result"
    }
   ],
   "source": [
    "lst"
   ]
  },
  {
   "cell_type": "code",
   "execution_count": 60,
   "id": "5a05677c-b6c6-435c-99a1-e077d87836cb",
   "metadata": {},
   "outputs": [],
   "source": [
    "lst.reverse()"
   ]
  },
  {
   "cell_type": "code",
   "execution_count": 61,
   "id": "a210e19f-1a40-4353-8b4f-b83c31e0595c",
   "metadata": {},
   "outputs": [
    {
     "data": {
      "text/plain": [
       "[6, 5, 4, 3, 2]"
      ]
     },
     "execution_count": 61,
     "metadata": {},
     "output_type": "execute_result"
    }
   ],
   "source": [
    "lst"
   ]
  },
  {
   "cell_type": "code",
   "execution_count": 62,
   "id": "66effc61-42c7-416b-a7b6-5889cc54e7af",
   "metadata": {},
   "outputs": [],
   "source": [
    "lst.extend(['hg','lo'])"
   ]
  },
  {
   "cell_type": "code",
   "execution_count": 63,
   "id": "ee37921e-b8c4-4bf4-827d-0e01e550db05",
   "metadata": {},
   "outputs": [
    {
     "data": {
      "text/plain": [
       "[6, 5, 4, 3, 2, 'hg', 'lo']"
      ]
     },
     "execution_count": 63,
     "metadata": {},
     "output_type": "execute_result"
    }
   ],
   "source": [
    "lst"
   ]
  },
  {
   "cell_type": "code",
   "execution_count": 64,
   "id": "ee1d5a62-a821-4107-8925-04d0b3f2f4cc",
   "metadata": {},
   "outputs": [
    {
     "ename": "TypeError",
     "evalue": "'<' not supported between instances of 'str' and 'int'",
     "output_type": "error",
     "traceback": [
      "\u001b[0;31m---------------------------------------------------------------------------\u001b[0m",
      "\u001b[0;31mTypeError\u001b[0m                                 Traceback (most recent call last)",
      "Cell \u001b[0;32mIn[64], line 1\u001b[0m\n\u001b[0;32m----> 1\u001b[0m \u001b[43mlst\u001b[49m\u001b[38;5;241;43m.\u001b[39;49m\u001b[43msort\u001b[49m\u001b[43m(\u001b[49m\u001b[43m)\u001b[49m\n",
      "\u001b[0;31mTypeError\u001b[0m: '<' not supported between instances of 'str' and 'int'"
     ]
    }
   ],
   "source": [
    "lst.sort()"
   ]
  },
  {
   "cell_type": "code",
   "execution_count": 66,
   "id": "0c11367b-48e9-4deb-a059-9c8c1490333a",
   "metadata": {},
   "outputs": [
    {
     "data": {
      "text/plain": [
       "[0, 1, 2, 3, 4, 5, 6, 7, 8, 9, 10, 11, 12, 13, 14, 15, 16, 17, 18, 19]"
      ]
     },
     "execution_count": 66,
     "metadata": {},
     "output_type": "execute_result"
    }
   ],
   "source": [
    "[i for i in range(0,20)]"
   ]
  },
  {
   "cell_type": "code",
   "execution_count": 67,
   "id": "17d91600-b431-4ac9-9ef5-193a624c6b87",
   "metadata": {},
   "outputs": [
    {
     "data": {
      "text/plain": [
       "[0,\n",
       " 'as',\n",
       " 'as',\n",
       " 3,\n",
       " 'as',\n",
       " 'as',\n",
       " 6,\n",
       " 'as',\n",
       " 'as',\n",
       " 9,\n",
       " 'as',\n",
       " 'as',\n",
       " 12,\n",
       " 'as',\n",
       " 'as',\n",
       " 15,\n",
       " 'as',\n",
       " 'as',\n",
       " 18,\n",
       " 'as',\n",
       " 'as']"
      ]
     },
     "execution_count": 67,
     "metadata": {},
     "output_type": "execute_result"
    }
   ],
   "source": [
    "[i if i%3==0 else 'as' for i in range(0,21)]"
   ]
  },
  {
   "cell_type": "code",
   "execution_count": 69,
   "id": "bb5144ef-a40b-499a-b2da-d4ff4e45510b",
   "metadata": {},
   "outputs": [
    {
     "data": {
      "text/plain": [
       "['as',\n",
       " 1,\n",
       " 2,\n",
       " 'as',\n",
       " 4,\n",
       " 5,\n",
       " 'as',\n",
       " 7,\n",
       " 8,\n",
       " 'as',\n",
       " 10,\n",
       " 11,\n",
       " 'as',\n",
       " 13,\n",
       " 14,\n",
       " 'as',\n",
       " 16,\n",
       " 17,\n",
       " 'as',\n",
       " 19,\n",
       " 20]"
      ]
     },
     "execution_count": 69,
     "metadata": {},
     "output_type": "execute_result"
    }
   ],
   "source": [
    "[i if i%3!=0 else 'as' for i in range(0,21)]"
   ]
  },
  {
   "cell_type": "code",
   "execution_count": 73,
   "id": "50d4040b-46e7-42aa-b39d-23d0e0f7e958",
   "metadata": {},
   "outputs": [
    {
     "data": {
      "text/plain": [
       "[1, 2, 3, 4, 5, 6, 7, 8]"
      ]
     },
     "execution_count": 73,
     "metadata": {},
     "output_type": "execute_result"
    }
   ],
   "source": [
    "lst=[1,2,3,4,5,6,7,8]\n",
    "lst"
   ]
  },
  {
   "cell_type": "code",
   "execution_count": 82,
   "id": "e1038fb1-3572-42ea-9d02-4887f55e167a",
   "metadata": {},
   "outputs": [
    {
     "name": "stdout",
     "output_type": "stream",
     "text": [
      "sum of even no: 20\n",
      "sum of odd no: 8\n"
     ]
    }
   ],
   "source": [
    "en=0\n",
    "on=0\n",
    "for i in lst:\n",
    "    if i%2==0:\n",
    "        en=en+i\n",
    "else:\n",
    "    on=on+i\n",
    "print(\"sum of even no: {}\".format(en))\n",
    "print(\"sum of odd no: {}\".format(on))"
   ]
  },
  {
   "cell_type": "code",
   "execution_count": 86,
   "id": "e2bedf00-98db-4cb9-aaf2-0d1ace92eeb4",
   "metadata": {},
   "outputs": [
    {
     "data": {
      "text/plain": [
       "20"
      ]
     },
     "execution_count": 86,
     "metadata": {},
     "output_type": "execute_result"
    }
   ],
   "source": [
    "en=sum([i for i in lst if i%2==0])\n",
    "en"
   ]
  },
  {
   "cell_type": "code",
   "execution_count": 88,
   "id": "2ce0df4b-ce65-4e64-9938-682429adf465",
   "metadata": {},
   "outputs": [
    {
     "data": {
      "text/plain": [
       "16"
      ]
     },
     "execution_count": 88,
     "metadata": {},
     "output_type": "execute_result"
    }
   ],
   "source": [
    "od=sum([i for i in lst if i%2!=0])\n",
    "od"
   ]
  },
  {
   "cell_type": "code",
   "execution_count": 98,
   "id": "3aba8175-06d7-4b7d-a108-5357f5032015",
   "metadata": {},
   "outputs": [
    {
     "data": {
      "text/plain": [
       "[1, 4, 9, 16, 25, 36, 49, 64, 81, 100]"
      ]
     },
     "execution_count": 98,
     "metadata": {},
     "output_type": "execute_result"
    }
   ],
   "source": [
    "lst=[1,2,3,4,5,6,7,8,9,10]\n",
    "[i*i for i in lst]"
   ]
  },
  {
   "cell_type": "code",
   "execution_count": 99,
   "id": "e321a623-7c41-4b8f-a60b-1aeba26d6350",
   "metadata": {},
   "outputs": [],
   "source": [
    "lst=[-2,-1,0,1,2,3,4]"
   ]
  },
  {
   "cell_type": "code",
   "execution_count": 101,
   "id": "d7d734e7-5397-43f1-a46e-4b708da26300",
   "metadata": {},
   "outputs": [
    {
     "data": {
      "text/plain": [
       "[1, 2, 3, 4]"
      ]
     },
     "execution_count": 101,
     "metadata": {},
     "output_type": "execute_result"
    }
   ],
   "source": [
    "[i for i in lst if i>0]"
   ]
  },
  {
   "cell_type": "code",
   "execution_count": 102,
   "id": "fd87fa62-b755-487a-8990-bfb528ff1b7c",
   "metadata": {},
   "outputs": [],
   "source": [
    "lst=['apple','banana','cherry','orange']"
   ]
  },
  {
   "cell_type": "code",
   "execution_count": 103,
   "id": "b247312f-d084-472d-b1fe-e86a2d98011c",
   "metadata": {},
   "outputs": [
    {
     "data": {
      "text/plain": [
       "['a', 'b', 'c', 'o']"
      ]
     },
     "execution_count": 103,
     "metadata": {},
     "output_type": "execute_result"
    }
   ],
   "source": [
    "[i[0] for i in lst]"
   ]
  },
  {
   "cell_type": "code",
   "execution_count": 106,
   "id": "cc0d3715-60fb-4c70-a757-02471e6449c8",
   "metadata": {},
   "outputs": [],
   "source": [
    "##celsius temperature to fahrenheit\n",
    "##(9/5)temp in c +32\n",
    "ct=[10,20,30,40,50]"
   ]
  },
  {
   "cell_type": "code",
   "execution_count": 108,
   "id": "d642963c-08bf-4d45-87df-54c04f53ee08",
   "metadata": {},
   "outputs": [
    {
     "data": {
      "text/plain": [
       "[50.0, 68.0, 86.0, 104.0, 122.0]"
      ]
     },
     "execution_count": 108,
     "metadata": {},
     "output_type": "execute_result"
    }
   ],
   "source": [
    "[(9/5)*i+32 for i in ct]\n"
   ]
  },
  {
   "cell_type": "code",
   "execution_count": 109,
   "id": "a5e8dce7-3887-47cf-ba05-4fa26ba8194d",
   "metadata": {},
   "outputs": [],
   "source": [
    "lst=[[1,2,3],[4,5,6],[7,8,9]]"
   ]
  },
  {
   "cell_type": "code",
   "execution_count": 126,
   "id": "dfabdd64-9871-4839-b93b-7c5097d9bbe8",
   "metadata": {},
   "outputs": [
    {
     "data": {
      "text/plain": [
       "[1, 2, 3, 4, 5, 6, 7, 8, 9]"
      ]
     },
     "execution_count": 126,
     "metadata": {},
     "output_type": "execute_result"
    }
   ],
   "source": [
    "[i for j in lst for i in j]"
   ]
  },
  {
   "cell_type": "code",
   "execution_count": 3,
   "id": "d666743e-74ef-4ba4-ba2b-fa3ab1ba067c",
   "metadata": {},
   "outputs": [],
   "source": [
    "## Assignment \n",
    "## Using both code and list comprehesnion\n",
    "# Example 2: Create a list of only the prime numbers from a given list\n",
    "numbers = [1, 2, 3, 4, 5, 6, 7, 8, 9, 10]"
   ]
  },
  {
   "cell_type": "code",
   "execution_count": 11,
   "id": "3af2cbaa-3cf9-4dcb-9299-5d23529a04bc",
   "metadata": {},
   "outputs": [
    {
     "data": {
      "text/plain": [
       "[2, 3, 5, 7]"
      ]
     },
     "execution_count": 11,
     "metadata": {},
     "output_type": "execute_result"
    }
   ],
   "source": [
    "n=1\n",
    "new=[]\n",
    "for i in numbers:\n",
    "    if i==2 or i==3 or i==6*n+1 or i==6*n-1:\n",
    "        new.append(i)  \n",
    "        i=i+1\n",
    "new"
   ]
  },
  {
   "cell_type": "code",
   "execution_count": 10,
   "id": "74c3c69c-39ff-4fa6-9b97-d06b6456248a",
   "metadata": {},
   "outputs": [
    {
     "data": {
      "text/plain": [
       "[2, 3, 5, 7]"
      ]
     },
     "execution_count": 10,
     "metadata": {},
     "output_type": "execute_result"
    }
   ],
   "source": [
    "new"
   ]
  },
  {
   "cell_type": "code",
   "execution_count": 143,
   "id": "8fab0074-50e6-4c17-aa08-60dd9e611d5c",
   "metadata": {},
   "outputs": [
    {
     "data": {
      "text/plain": [
       "[2, 3, 5, 7]"
      ]
     },
     "execution_count": 143,
     "metadata": {},
     "output_type": "execute_result"
    }
   ],
   "source": [
    "n=1\n",
    "[i for i in numbers if i==2 or i==3 or i==6*n+1 or i==6*n-1]"
   ]
  },
  {
   "cell_type": "code",
   "execution_count": 13,
   "id": "bdb7f109-f907-473a-b466-c350bd185241",
   "metadata": {},
   "outputs": [],
   "source": [
    "# Example 3: Create a list of all the possible combinations of 2 elements from a list\n",
    "numbers = [1, 2, 3, 4, 5]"
   ]
  },
  {
   "cell_type": "code",
   "execution_count": 58,
   "id": "f38db6d1-897f-4085-858c-75d12655eaf7",
   "metadata": {},
   "outputs": [
    {
     "name": "stdout",
     "output_type": "stream",
     "text": [
      "[(1, 1), (1, 2), (1, 3), (1, 4), (1, 5), (2, 1), (2, 2), (2, 3), (2, 4), (2, 5), (3, 1), (3, 2), (3, 3), (3, 4), (3, 5), (4, 1), (4, 2), (4, 3), (4, 4), (4, 5), (5, 1), (5, 2), (5, 3), (5, 4), (5, 5)]\n"
     ]
    }
   ],
   "source": [
    "a=0\n",
    "b=0\n",
    "new=[]\n",
    "for a in range(0,len(numbers)):\n",
    "    for b in range(0,len(numbers)):\n",
    "        new.append((numbers[a],numbers[b]))\n",
    "        b=+1\n",
    "    a=+1\n",
    "print(new)"
   ]
  },
  {
   "cell_type": "code",
   "execution_count": null,
   "id": "8cd5651a-bcaa-4968-a5b3-9351c7fca818",
   "metadata": {},
   "outputs": [],
   "source": []
  },
  {
   "cell_type": "code",
   "execution_count": null,
   "id": "145db3db-eeff-4250-a69b-95e39ea5deea",
   "metadata": {},
   "outputs": [],
   "source": []
  },
  {
   "cell_type": "code",
   "execution_count": null,
   "id": "0a37048f-c18e-4847-974e-f41417955c50",
   "metadata": {},
   "outputs": [],
   "source": []
  },
  {
   "cell_type": "code",
   "execution_count": null,
   "id": "a219e1bc-d31d-47cf-8414-a4a427361aac",
   "metadata": {},
   "outputs": [],
   "source": []
  }
 ],
 "metadata": {
  "kernelspec": {
   "display_name": "Python 3 (ipykernel)",
   "language": "python",
   "name": "python3"
  },
  "language_info": {
   "codemirror_mode": {
    "name": "ipython",
    "version": 3
   },
   "file_extension": ".py",
   "mimetype": "text/x-python",
   "name": "python",
   "nbconvert_exporter": "python",
   "pygments_lexer": "ipython3",
   "version": "3.10.8"
  }
 },
 "nbformat": 4,
 "nbformat_minor": 5
}
