{
 "cells": [
  {
   "cell_type": "code",
   "execution_count": 1,
   "id": "0e63e561-999d-42a1-b3d4-4454f32c5fa7",
   "metadata": {},
   "outputs": [],
   "source": [
    "#Ans1\n",
    "\n",
    "list1 = [1,2,3,4, [44,55,66, True], False, (34,56,78,89,34), {1,2,3,3,2,1}, {1:34, \"key2\": [55, 67, 78, 89], 4: (45,\n",
    "22, 61, 34)}, [56, 'data science'], 'Machine Learning']"
   ]
  },
  {
   "cell_type": "code",
   "execution_count": 9,
   "id": "e87b0063-fdb8-404e-bc0c-ba4391f697b8",
   "metadata": {},
   "outputs": [
    {
     "name": "stdout",
     "output_type": "stream",
     "text": [
      "4134711838987085478833841242112000\n"
     ]
    }
   ],
   "source": [
    "def prod(list1):\n",
    "    new=[]\n",
    "    new1=[]\n",
    "    for z in list1:\n",
    "        if type(z)==list or type(z)==tuple or type(z)==set:\n",
    "            for x in z:\n",
    "                new.append(x)\n",
    "        elif type(z)==dict:\n",
    "            for c in z.keys():\n",
    "                new.append(c)\n",
    "            for v in z.values():\n",
    "                if type(v)==int:\n",
    "                    \n",
    "                    new.append(v)\n",
    "            for b in z.values():\n",
    "                if type(b)==tuple or type(b)==list:\n",
    "                    for n in b:\n",
    "                        new.append(n)\n",
    "        else:\n",
    "            new.append(z)\n",
    "    for l in new:\n",
    "        if type(l)==int:\n",
    "            new1.append(l)\n",
    "    return new1  \n",
    "j=prod(list1)\n",
    "a=1\n",
    "for k in j:\n",
    "    a=a*k\n",
    "print(a)"
   ]
  },
  {
   "cell_type": "code",
   "execution_count": null,
   "id": "d69bc99e-b5b3-4897-b3e4-94ba0375cc41",
   "metadata": {},
   "outputs": [],
   "source": [
    "#Ans2\n",
    "def encrypt_message(message):\n",
    "    # create a dictionary to store the encryption key\n",
    "    encryption_key = {\n",
    "        'a': 'z', 'b': 'y', 'c': 'x', 'd': 'w', 'e': 'v', 'f': 'u', 'g': 't',\n",
    "        'h': 's', 'i': 'r', 'j': 'q', 'k': 'p', 'l': 'o', 'm': 'n', 'n': 'm',\n",
    "        'o': 'l', 'p': 'k', 'q': 'j', 'r': 'i', 's': 'h', 't': 'g', 'u': 'f',\n",
    "        'v': 'e', 'w': 'd', 'x': 'c', 'y': 'b', 'z': 'a'}\n",
    "    # replace whitespace with dollar sign\n",
    "    message = message.replace(' ', '$')\n",
    "    # encrypt each character in the message\n",
    "    encrypted_message = ''\n",
    "    for char in message:\n",
    "        if char.isalpha():\n",
    "            # encrypt alphabets using encryption key\n",
    "            char = encryption_key.get(char.lower(), char)\n",
    "            # preserve case of original alphabet\n",
    "            if char.islower():\n",
    "                char = char.upper()\n",
    "            else:\n",
    "                char = char.lower()\n",
    "        encrypted_message += char\n",
    "    return encrypted_message\n",
    "\n",
    "\n",
    "message = 'I want to become a Data Scientist.'\n",
    "encrypted_message = encrypt_message(message)\n",
    "print(encrypted_message)\n",
    "\n",
    "    \n",
    "        "
   ]
  },
  {
   "cell_type": "code",
   "execution_count": null,
   "id": "16f893bd-d0af-4d4a-891e-49b47b622333",
   "metadata": {},
   "outputs": [],
   "source": []
  },
  {
   "cell_type": "code",
   "execution_count": null,
   "id": "594ef841-beff-4c6c-9457-54374e2afc2d",
   "metadata": {},
   "outputs": [],
   "source": [
    "\n"
   ]
  },
  {
   "cell_type": "code",
   "execution_count": null,
   "id": "f7530dde-8c0c-4647-8286-fafec1494e3c",
   "metadata": {},
   "outputs": [],
   "source": []
  },
  {
   "cell_type": "code",
   "execution_count": null,
   "id": "2c24f0cb-4b25-4bd4-8ff8-d2ab441261c8",
   "metadata": {},
   "outputs": [],
   "source": []
  },
  {
   "cell_type": "code",
   "execution_count": null,
   "id": "58c68bf6-b7f7-4763-a338-81f76bf342ad",
   "metadata": {},
   "outputs": [],
   "source": []
  },
  {
   "cell_type": "code",
   "execution_count": null,
   "id": "c1f582ed-c699-4b94-8cf0-ede2a3762ffb",
   "metadata": {},
   "outputs": [],
   "source": []
  },
  {
   "cell_type": "code",
   "execution_count": null,
   "id": "7b251d54-39df-43d5-8105-f3edbddebb13",
   "metadata": {},
   "outputs": [],
   "source": []
  },
  {
   "cell_type": "code",
   "execution_count": null,
   "id": "a7bf0c47-7532-4e1f-98bf-63b3aab4f20f",
   "metadata": {},
   "outputs": [],
   "source": []
  }
 ],
 "metadata": {
  "kernelspec": {
   "display_name": "Python 3 (ipykernel)",
   "language": "python",
   "name": "python3"
  },
  "language_info": {
   "codemirror_mode": {
    "name": "ipython",
    "version": 3
   },
   "file_extension": ".py",
   "mimetype": "text/x-python",
   "name": "python",
   "nbconvert_exporter": "python",
   "pygments_lexer": "ipython3",
   "version": "3.10.8"
  }
 },
 "nbformat": 4,
 "nbformat_minor": 5
}
