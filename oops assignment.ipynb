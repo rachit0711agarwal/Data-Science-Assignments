{
 "cells": [
  {
   "cell_type": "markdown",
   "id": "ef3bfbf7-ba9d-4549-b252-deb3d8034ead",
   "metadata": {},
   "source": [
    "Ans1\n",
    "\n",
    "Classes are user-defined data types that act as the blueprint for individual objects, attributes and methods.\n",
    "\n",
    "Objects are instances of a class created with specifically defined data. Objects can correspond to real-world objects or an abstract entity. When class is defined initially, the description is the only object that is defined"
   ]
  },
  {
   "cell_type": "code",
   "execution_count": 3,
   "id": "f3b8545a-7126-4e13-9ee6-a6009eee1f0f",
   "metadata": {},
   "outputs": [],
   "source": [
    "class xyz:\n",
    "    \n",
    "    def welcome(self):\n",
    "        print('welcome')\n",
    "    "
   ]
  },
  {
   "cell_type": "code",
   "execution_count": 4,
   "id": "ae182d24-8eb7-411b-9c0f-4e51ade6ef0c",
   "metadata": {},
   "outputs": [],
   "source": [
    "rachit=xyz()"
   ]
  },
  {
   "cell_type": "code",
   "execution_count": 5,
   "id": "56724e6a-26c5-4eea-b07e-3b2228a8102e",
   "metadata": {},
   "outputs": [
    {
     "name": "stdout",
     "output_type": "stream",
     "text": [
      "welcome\n"
     ]
    }
   ],
   "source": [
    "rachit.welcome()"
   ]
  },
  {
   "cell_type": "markdown",
   "id": "4c08e99e-1075-46eb-b56c-0453d70f511b",
   "metadata": {},
   "source": [
    "Ans2\n",
    "\n",
    "The four pillars of object-oriented programming are:\n",
    "\n",
    "\n",
    "Abstraction\n",
    "\n",
    "Encapsulation\n",
    "\n",
    "Inheritance\n",
    "\n",
    "Polymorphism"
   ]
  },
  {
   "cell_type": "raw",
   "id": "4b7cc525-d827-45a4-a5bb-428ad616ebe0",
   "metadata": {},
   "source": [
    "Ans3\n",
    "\n",
    "__init__ is one of the reserved methods in Python. In object oriented programming, it is known as a constructor. The __init__ method can be called when an object is created from the class, and access is required to initialize the attributes of the class\n"
   ]
  },
  {
   "cell_type": "code",
   "execution_count": 8,
   "id": "c18f4b44-bae4-4436-a463-104caa0174ab",
   "metadata": {},
   "outputs": [],
   "source": [
    "class data_science:\n",
    "    \n",
    "    def __init__(rac,topic,days_covered,no_of_video):\n",
    "        rac.topic=topic\n",
    "        rac.days_covered=days_covered\n",
    "        rac.no_of_video=no_of_video\n",
    "        \n",
    "    def return_class_details():\n",
    "        return rac.topic,rac.days_covered,rac.no_of_video"
   ]
  },
  {
   "cell_type": "code",
   "execution_count": 9,
   "id": "f533dcb9-d10b-4ba7-9fe9-16e2c70cd6e9",
   "metadata": {},
   "outputs": [],
   "source": [
    "rachit=data_science('python',10,15)"
   ]
  },
  {
   "cell_type": "code",
   "execution_count": 10,
   "id": "a32d27f2-e6a6-49de-acd9-c1739c28ddb4",
   "metadata": {},
   "outputs": [
    {
     "data": {
      "text/plain": [
       "'python'"
      ]
     },
     "execution_count": 10,
     "metadata": {},
     "output_type": "execute_result"
    }
   ],
   "source": [
    "rachit.topic"
   ]
  },
  {
   "cell_type": "code",
   "execution_count": 11,
   "id": "2cdbed98-3b94-4f4e-860e-92b8a2cd605d",
   "metadata": {},
   "outputs": [
    {
     "data": {
      "text/plain": [
       "10"
      ]
     },
     "execution_count": 11,
     "metadata": {},
     "output_type": "execute_result"
    }
   ],
   "source": [
    "rachit.days_covered"
   ]
  },
  {
   "cell_type": "code",
   "execution_count": 12,
   "id": "53555a06-effd-4129-94b7-192062fdc1e2",
   "metadata": {},
   "outputs": [
    {
     "data": {
      "text/plain": [
       "15"
      ]
     },
     "execution_count": 12,
     "metadata": {},
     "output_type": "execute_result"
    }
   ],
   "source": [
    "rachit.no_of_video"
   ]
  },
  {
   "cell_type": "markdown",
   "id": "3ea4619e-8271-4d99-9920-3c2dd0ff7f44",
   "metadata": {},
   "source": [
    "Ans4\n",
    "\n",
    "In Object-Oriented Programming (OOP), self is a special parameter that refers to the current instance of a class. It is used to access the attributes and methods of an object from within the class definition.\n",
    "\n",
    "\n",
    "When a method is called on an object, self is automatically passed as the first argument to that method. This allows the method to access the attributes and methods of the object, as well as modify its state"
   ]
  },
  {
   "cell_type": "markdown",
   "id": "83244563-346d-42a8-9471-338c859f978a",
   "metadata": {},
   "source": [
    "Ans 5\n",
    "\n",
    "Inheritance is a fundamental concept in object-oriented programming (OOP) that allows one class to inherit properties and methods from another class. The class that is inherited from is called the parent class or base class, and the class that inherits from it is called the child class or derived class.\n",
    "\n",
    "\n",
    "There are several types of inheritance in Python:"
   ]
  },
  {
   "cell_type": "code",
   "execution_count": 14,
   "id": "4eb2460b-a1fd-4796-b32f-3736fd0db66a",
   "metadata": {},
   "outputs": [
    {
     "name": "stdout",
     "output_type": "stream",
     "text": [
      "Fido is eating.\n",
      "Woof!\n"
     ]
    }
   ],
   "source": [
    "##1.Single Inheritance: In single inheritance, a class inherits properties and methods from a single parent class.\n",
    "\n",
    "class Animal:\n",
    "    def __init__(self, name):\n",
    "        self.name = name\n",
    "\n",
    "    def eat(self):\n",
    "        print(f\"{self.name} is eating.\")\n",
    "\n",
    "class Dog(Animal):\n",
    "    def bark(self):\n",
    "        print(\"Woof!\")\n",
    "\n",
    "my_dog = Dog(\"Fido\")\n",
    "my_dog.eat()  # Output: \"Fido is eating.\"\n",
    "my_dog.bark() # Output: \"Woof!"
   ]
  },
  {
   "cell_type": "code",
   "execution_count": 15,
   "id": "6f4daec7-e4f7-4ef8-b04e-2bac22d0a290",
   "metadata": {},
   "outputs": [
    {
     "name": "stdout",
     "output_type": "stream",
     "text": [
      "Flying...\n",
      "Swimming...\n"
     ]
    }
   ],
   "source": [
    "##2.Multiple Inheritance: In multiple inheritance, a class inherits properties and methods from multiple parent classes.\n",
    "\n",
    "class Flyer:\n",
    "    def fly(self):\n",
    "        print(\"Flying...\")\n",
    "\n",
    "class Swimmer:\n",
    "    def swim(self):\n",
    "        print(\"Swimming...\")\n",
    "\n",
    "class Duck(Flyer, Swimmer):\n",
    "    pass\n",
    "\n",
    "my_duck = Duck()\n",
    "my_duck.fly()  # Output: \"Flying...\"\n",
    "my_duck.swim() # Output: \"Swimming...\""
   ]
  },
  {
   "cell_type": "code",
   "execution_count": 18,
   "id": "6a5ab8fb-41ca-475b-8002-3dfca49e0aa9",
   "metadata": {},
   "outputs": [
    {
     "name": "stdout",
     "output_type": "stream",
     "text": [
      "Fido is eating.\n",
      "Walking...\n",
      "Woof!\n"
     ]
    }
   ],
   "source": [
    "##3. Multilevel Inheritance:A class inherits properties and methods from a parent class, which inturn inherits from another parent class\n",
    "class Animal:\n",
    "    def __init__(self, name):\n",
    "        self.name = name\n",
    "\n",
    "    def eat(self):\n",
    "        print(f\"{self.name} is eating.\")\n",
    "\n",
    "class Mammal(Animal):\n",
    "    def walk(self):\n",
    "        print(\"Walking...\")\n",
    "\n",
    "class Dog(Mammal):\n",
    "    def bark(self):\n",
    "        print(\"Woof!\")\n",
    "\n",
    "my_dog = Dog(\"Fido\")\n",
    "my_dog.eat()  # Output: \"Fido is eating.\"\n",
    "my_dog.walk() # Output: \"Walking...\"\n",
    "my_dog.bark() # Output: \"Woof!\""
   ]
  },
  {
   "cell_type": "code",
   "execution_count": 19,
   "id": "176e20f1-22d6-4a78-a713-e8e91abcd236",
   "metadata": {},
   "outputs": [],
   "source": [
    "##4. Hierarchical Inheritance: In this, multiple child classes inherit properties and methods from a single parent class\n",
    "class Vehicle:\n",
    "    def __init__(self, name):\n",
    "        self.name = name\n",
    "\n",
    "    def start(self):\n",
    "        print(f\"{self.name} is starting.\")\n",
    "\n",
    "class Car(Vehicle):\n",
    "    def drive(self):\n",
    "        print(\"Driving...\")\n",
    "\n",
    "class Motorcycle(Vehicle):\n",
    "    def ride(self):\n",
    "        print(\"Riding...\")\n",
    "\n",
    "my_car = Car(\"Toyota\")\n",
    "my_motorcycle = Motorcycle(\"Harley-Davidson\")"
   ]
  },
  {
   "cell_type": "code",
   "execution_count": 29,
   "id": "459261bd-9f75-4d5b-8474-1926397f76d9",
   "metadata": {},
   "outputs": [
    {
     "name": "stdout",
     "output_type": "stream",
     "text": [
      "Driving...\n",
      "Riding...\n",
      "Toyota is starting.\n",
      "Harley-Davidson is starting.\n"
     ]
    }
   ],
   "source": [
    "my_car.drive()\n",
    "my_motorcycle.ride()\n",
    "my_car.start()\n",
    "my_motorcycle.start()\n"
   ]
  },
  {
   "cell_type": "code",
   "execution_count": null,
   "id": "707076a5-38b5-4802-adf3-8c79de7c0bb0",
   "metadata": {},
   "outputs": [],
   "source": []
  }
 ],
 "metadata": {
  "kernelspec": {
   "display_name": "Python 3 (ipykernel)",
   "language": "python",
   "name": "python3"
  },
  "language_info": {
   "codemirror_mode": {
    "name": "ipython",
    "version": 3
   },
   "file_extension": ".py",
   "mimetype": "text/x-python",
   "name": "python",
   "nbconvert_exporter": "python",
   "pygments_lexer": "ipython3",
   "version": "3.10.8"
  }
 },
 "nbformat": 4,
 "nbformat_minor": 5
}
