{
 "cells": [
  {
   "cell_type": "code",
   "execution_count": 33,
   "id": "4d8462e1-a59a-459e-a68b-673a6de14515",
   "metadata": {},
   "outputs": [],
   "source": [
    "#Ans1\n",
    "l=[('Sachin Tendulkar', 34357), ('Ricky Ponting', 27483), ('Jack Kallis', 25534), ('Virat Kohli', 24936)]\n",
    "l.sort(key=lambda x :x[1])"
   ]
  },
  {
   "cell_type": "code",
   "execution_count": 34,
   "id": "43eb8313-59eb-42c8-8580-61c4a36b9a81",
   "metadata": {},
   "outputs": [
    {
     "data": {
      "text/plain": [
       "[('Virat Kohli', 24936),\n",
       " ('Jack Kallis', 25534),\n",
       " ('Ricky Ponting', 27483),\n",
       " ('Sachin Tendulkar', 34357)]"
      ]
     },
     "execution_count": 34,
     "metadata": {},
     "output_type": "execute_result"
    }
   ],
   "source": [
    "l"
   ]
  },
  {
   "cell_type": "code",
   "execution_count": 43,
   "id": "60be87c5-3656-47d4-a6b5-d0966182191b",
   "metadata": {},
   "outputs": [
    {
     "data": {
      "text/plain": [
       "[1, 4, 9, 16, 25, 36, 49, 64, 81, 100]"
      ]
     },
     "execution_count": 43,
     "metadata": {},
     "output_type": "execute_result"
    }
   ],
   "source": [
    "#Ans2\n",
    "sq=[1, 2, 3, 4, 5, 6, 7, 8, 9, 10]\n",
    "list(map(lambda a:a**2,sq))"
   ]
  },
  {
   "cell_type": "code",
   "execution_count": 44,
   "id": "9c9643a3-8525-4e20-807d-2739dbae6191",
   "metadata": {},
   "outputs": [
    {
     "data": {
      "text/plain": [
       "('1', '2', '3', '4', '5', '6', '7', '8', '9', '10')"
      ]
     },
     "execution_count": 44,
     "metadata": {},
     "output_type": "execute_result"
    }
   ],
   "source": [
    "#ans3\n",
    "a=[1, 2, 3, 4, 5, 6, 7, 8, 9, 10]\n",
    "tuple(map(lambda s:str(s),a))"
   ]
  },
  {
   "cell_type": "code",
   "execution_count": 48,
   "id": "47a54c77-eac0-4cc4-81b0-2c7712bd468d",
   "metadata": {},
   "outputs": [
    {
     "data": {
      "text/plain": [
       "325"
      ]
     },
     "execution_count": 48,
     "metadata": {},
     "output_type": "execute_result"
    }
   ],
   "source": [
    "#ans4\n",
    "n=[]\n",
    "for i in range(26):\n",
    "    n.append(i)\n",
    "n\n",
    "from functools import reduce\n",
    "reduce(lambda x,y:x+y,n)"
   ]
  },
  {
   "cell_type": "code",
   "execution_count": 53,
   "id": "fed585b9-c7f3-423b-ba8f-fbb8ae314b2f",
   "metadata": {},
   "outputs": [
    {
     "data": {
      "text/plain": [
       "[6, 60, 90, 120]"
      ]
     },
     "execution_count": 53,
     "metadata": {},
     "output_type": "execute_result"
    }
   ],
   "source": [
    "#Ans5\n",
    "a=[2, 3, 6, 9, 27, 60, 90, 120, 55, 46]\n",
    "list(filter(lambda x:x%2==0 and x%3==0,a))\n"
   ]
  },
  {
   "cell_type": "code",
   "execution_count": 67,
   "id": "16989a3b-1946-458e-9879-ef47bcd97e18",
   "metadata": {},
   "outputs": [
    {
     "data": {
      "text/plain": [
       "['php', 'aba', 'radar', 'level']"
      ]
     },
     "execution_count": 67,
     "metadata": {},
     "output_type": "execute_result"
    }
   ],
   "source": [
    "#ans6\n",
    "z=['python', 'php', 'aba', 'radar', 'level']\n",
    "list(filter(lambda x: (x == \"\".join(reversed(x))),z))"
   ]
  },
  {
   "cell_type": "code",
   "execution_count": null,
   "id": "fb15456d-5f85-4a79-a123-a6472bee9f14",
   "metadata": {},
   "outputs": [],
   "source": []
  }
 ],
 "metadata": {
  "kernelspec": {
   "display_name": "Python 3 (ipykernel)",
   "language": "python",
   "name": "python3"
  },
  "language_info": {
   "codemirror_mode": {
    "name": "ipython",
    "version": 3
   },
   "file_extension": ".py",
   "mimetype": "text/x-python",
   "name": "python",
   "nbconvert_exporter": "python",
   "pygments_lexer": "ipython3",
   "version": "3.10.8"
  }
 },
 "nbformat": 4,
 "nbformat_minor": 5
}
