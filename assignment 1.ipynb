{
 "cells": [
  {
   "cell_type": "markdown",
   "id": "3e20f9cc-617b-41a6-a919-98794f4ad397",
   "metadata": {},
   "source": [
    "Ans 1. Guido van Rossum"
   ]
  },
  {
   "cell_type": "markdown",
   "id": "36e8ae59-49e5-4ca5-8764-e4a155d23d98",
   "metadata": {},
   "source": [
    "Ans 2. Python is an interpreted programming language, which supports object-\n",
    "oriented, structured, and functional programming.\n"
   ]
  },
  {
   "cell_type": "markdown",
   "id": "89a64b6f-ef96-45b7-82a4-8138de01b52b",
   "metadata": {},
   "source": [
    "Ans 3. Yes"
   ]
  },
  {
   "cell_type": "markdown",
   "id": "f0f02430-48c5-430d-bc1b-b1716826f2a7",
   "metadata": {},
   "source": [
    "Ans 4. ‘.py’"
   ]
  },
  {
   "cell_type": "markdown",
   "id": "9d855716-031b-4374-9329-43d55f480e4a",
   "metadata": {},
   "source": [
    "Ans 5. Python code is both compiled and interpreted."
   ]
  },
  {
   "cell_type": "markdown",
   "id": "673fb251-3afa-4366-917e-f571cee52d0e",
   "metadata": {},
   "source": [
    "Ans 6. Indentation"
   ]
  },
  {
   "cell_type": "markdown",
   "id": "2802a514-76dc-4924-883b-82e6b6fb0ac6",
   "metadata": {},
   "source": [
    "Ans 7. #"
   ]
  },
  {
   "cell_type": "markdown",
   "id": "bf0892cb-b13c-4514-9e42-f1c2379cc592",
   "metadata": {},
   "source": [
    "Ans 8. sys.version"
   ]
  },
  {
   "cell_type": "markdown",
   "id": "7cac6b98-ca04-42e3-82dc-cced1999c1a3",
   "metadata": {},
   "source": [
    "Ans 9. Lambda"
   ]
  },
  {
   "cell_type": "markdown",
   "id": "e01d1289-3b5c-40c9-a35b-000f9a55acf5",
   "metadata": {},
   "source": [
    "Ans 10. Preferred Installer Program"
   ]
  },
  {
   "cell_type": "markdown",
   "id": "469f9291-5b9c-445f-932f-5917799328d4",
   "metadata": {},
   "source": [
    "Ans 11. print() , input()"
   ]
  },
  {
   "cell_type": "markdown",
   "id": "33324a87-b4e5-43ee-aa60-dcb97150b445",
   "metadata": {},
   "source": [
    "Ans 12. 79"
   ]
  },
  {
   "cell_type": "markdown",
   "id": "61546ad9-df9e-4975-b890-1c80422e0f72",
   "metadata": {},
   "source": [
    "Ans 13. Run on any operating system, Dynamic typing etc."
   ]
  },
  {
   "cell_type": "markdown",
   "id": "fe07089a-dad2-4781-9713-ff923a098fc1",
   "metadata": {},
   "source": [
    "Ans 14. Memory in Python is managed by Python private heap space."
   ]
  },
  {
   "cell_type": "markdown",
   "id": "9def24e3-cc40-4e41-89aa-7fefae5f3fe9",
   "metadata": {},
   "source": [
    "Ans 15. Install python from this link https://www.python.org/downloads/\n",
    "\n",
    "After this, install it on your PC. Look for the location where PYTHON has been\n",
    "installed on your PC using the following command on your command prompt:\n",
    "cmd python.\n",
    "\n",
    "Then go to advanced system settings and add new variable and name it as\n",
    "PYTHON_NAME and paste the copied path.\n",
    "\n",
    "Then look for the path variable, select its value and select edit\n",
    "Add a semicolon towards the end of the value if it's not present and then type\n",
    "%PYTHON_HOME%"
   ]
  },
  {
   "cell_type": "markdown",
   "id": "2c7e16d0-c3aa-4366-a25a-610891bf36a4",
   "metadata": {},
   "source": [
    "Ans 16. Yes Required"
   ]
  },
  {
   "cell_type": "code",
   "execution_count": null,
   "id": "c379ed21-0dcb-4886-b739-8786714d8f05",
   "metadata": {},
   "outputs": [],
   "source": []
  }
 ],
 "metadata": {
  "kernelspec": {
   "display_name": "Python 3 (ipykernel)",
   "language": "python",
   "name": "python3"
  },
  "language_info": {
   "codemirror_mode": {
    "name": "ipython",
    "version": 3
   },
   "file_extension": ".py",
   "mimetype": "text/x-python",
   "name": "python",
   "nbconvert_exporter": "python",
   "pygments_lexer": "ipython3",
   "version": "3.10.8"
  }
 },
 "nbformat": 4,
 "nbformat_minor": 5
}
