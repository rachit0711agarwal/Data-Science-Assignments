{
 "cells": [
  {
   "cell_type": "code",
   "execution_count": 4,
   "id": "7f92017c-a83a-40f4-9b3d-fbbcaa088fee",
   "metadata": {},
   "outputs": [
    {
     "name": "stdin",
     "output_type": "stream",
     "text": [
      "Enter Your Password\n",
      " ASDwer5678#$%^\n"
     ]
    },
    {
     "name": "stdout",
     "output_type": "stream",
     "text": [
      "Valid Password\n"
     ]
    }
   ],
   "source": [
    "#ans 1\n",
    "\n",
    "def password():\n",
    "\n",
    "    var=input(\"Enter Your Password\"\"\\n\")\n",
    "\n",
    "    num=\"1234567890\"\n",
    "\n",
    "    j=\"@#$_&-+()/*:;!?%[]{}\\=\"\n",
    "\n",
    "    b,c,d,a=0,0,0,0\n",
    "\n",
    "    if len(var) >= 10:\n",
    "\n",
    "        for i in list(var):\n",
    "            if i.isupper() == True:\n",
    "                c+=1\n",
    "            if i.islower() == True:\n",
    "                d+=1\n",
    "            if i in list(j) :\n",
    "                b+=1\n",
    "            if i in list(num):\n",
    "                a+=1\n",
    "        \n",
    "    \n",
    "    if c>=2 and d>=2 and b>=3 and a>=1:\n",
    "        print (\"Valid Password\")\n",
    "    else:\n",
    "        print(\"Password is Invalid\")\n",
    "    \n",
    "password()"
   ]
  },
  {
   "cell_type": "code",
   "execution_count": 5,
   "id": "2015128d-4b4d-405b-b732-8b89cef76a64",
   "metadata": {},
   "outputs": [
    {
     "name": "stdout",
     "output_type": "stream",
     "text": [
      "['banana']\n"
     ]
    }
   ],
   "source": [
    "#Ans 2\n",
    "\n",
    "#Check if the string starts with a particular letter,\n",
    "str_list = ['apple', 'banana', 'cherry', 'date', 'elderberry']\n",
    "letter = 'b'\n",
    "\n",
    "filtered_list = list(filter(lambda x: x.startswith(letter), str_list))\n",
    "print(filtered_list)"
   ]
  },
  {
   "cell_type": "code",
   "execution_count": 6,
   "id": "6605c9f9-8529-4d49-b27a-e1457a907259",
   "metadata": {},
   "outputs": [
    {
     "name": "stdout",
     "output_type": "stream",
     "text": [
      "['123']\n"
     ]
    }
   ],
   "source": [
    "#Check if the string is numeric\n",
    "\n",
    "str_list = ['123', 'abc', '45.6', '-10']\n",
    "\n",
    "numeric_list = list(filter(lambda x: x.isnumeric(), str_list))\n",
    "print(numeric_list)"
   ]
  },
  {
   "cell_type": "code",
   "execution_count": 7,
   "id": "bef7aade-39e5-4c61-85f5-c60caba79cf0",
   "metadata": {},
   "outputs": [
    {
     "name": "stdout",
     "output_type": "stream",
     "text": [
      "[('orange', 80), ('mango', 99), ('grapes', 1000)]\n"
     ]
    }
   ],
   "source": [
    "#Sort a list of tuples having fruit names and their quantity:\n",
    "\n",
    "fruits = [(\"mango\",99),(\"orange\",80), (\"grapes\", 1000)]\n",
    "\n",
    "sorted_fruits = [tup for tup in sorted(fruits, key=lambda x: x[1])]\n",
    "\n",
    "print(sorted_fruits)"
   ]
  },
  {
   "cell_type": "code",
   "execution_count": 8,
   "id": "b88d0673-5bf5-4966-996c-f249576b7e04",
   "metadata": {},
   "outputs": [
    {
     "name": "stdout",
     "output_type": "stream",
     "text": [
      "[1, 4, 9, 16, 25, 36, 49, 64, 81, 100]\n"
     ]
    }
   ],
   "source": [
    "#Find the squares of numbers from 1 to 10:\n",
    "\n",
    "squares = [x**2 for x in range(1, 11)]\n",
    "\n",
    "print(squares)"
   ]
  },
  {
   "cell_type": "code",
   "execution_count": 9,
   "id": "ab568943-e838-42fb-8539-4fe52d8fb9dd",
   "metadata": {},
   "outputs": [
    {
     "name": "stdout",
     "output_type": "stream",
     "text": [
      "[1.0, 1.26, 1.44, 1.59, 1.71, 1.82, 1.91, 2.0, 2.08, 2.15]\n"
     ]
    }
   ],
   "source": [
    "#Find the cube root of numbers from 1 to 10:\n",
    "\n",
    "cube_roots = [round(x**(1/3), 2) for x in range(1, 11)]\n",
    "\n",
    "print(cube_roots)"
   ]
  },
  {
   "cell_type": "code",
   "execution_count": 10,
   "id": "75b4be72-b87e-485d-bd80-c5cc72c7b020",
   "metadata": {},
   "outputs": [
    {
     "name": "stdout",
     "output_type": "stream",
     "text": [
      "True\n"
     ]
    }
   ],
   "source": [
    "#Check if a given number is even:\n",
    "\n",
    "num = 6\n",
    "\n",
    "is_even = lambda x: x % 2 == 0\n",
    "\n",
    "print(is_even(num))"
   ]
  },
  {
   "cell_type": "code",
   "execution_count": 11,
   "id": "52cbcff6-7682-413f-9d38-1c4868b58c18",
   "metadata": {},
   "outputs": [
    {
     "name": "stdout",
     "output_type": "stream",
     "text": [
      "[1, 3, 5, 7, 9]\n"
     ]
    }
   ],
   "source": [
    "#Filter odd numbers from the given list\n",
    "\n",
    "nums = [1, 2, 3, 4, 5, 6, 7, 8, 9, 10]\n",
    "\n",
    "odd_nums = list(filter(lambda x: x % 2 != 0, nums))\n",
    "\n",
    "print(odd_nums)"
   ]
  },
  {
   "cell_type": "code",
   "execution_count": 12,
   "id": "5d9ee780-5a28-4cb6-9670-cc2a3f08af69",
   "metadata": {},
   "outputs": [
    {
     "name": "stdout",
     "output_type": "stream",
     "text": [
      "Positive numbers: [1, 2, 3, 4, 5, 6]\n",
      "Negative numbers: [-1, -2, -3, -4, -5]\n"
     ]
    }
   ],
   "source": [
    "#Sort a list of integers into positive and negative integers lists\n",
    "\n",
    "nums = [1,2,3,4,5,6,-1,-2,-3,-4,-5,0]\n",
    "\n",
    "positive_nums = list(filter(lambda x: x > 0, nums))\n",
    "negative_nums = list(filter(lambda x: x < 0, nums))\n",
    "\n",
    "print(\"Positive numbers:\", positive_nums)\n",
    "print(\"Negative numbers:\", negative_nums)"
   ]
  },
  {
   "cell_type": "code",
   "execution_count": null,
   "id": "d8307099-6810-41cc-a0c9-b3200c203663",
   "metadata": {},
   "outputs": [],
   "source": []
  }
 ],
 "metadata": {
  "kernelspec": {
   "display_name": "Python 3 (ipykernel)",
   "language": "python",
   "name": "python3"
  },
  "language_info": {
   "codemirror_mode": {
    "name": "ipython",
    "version": 3
   },
   "file_extension": ".py",
   "mimetype": "text/x-python",
   "name": "python",
   "nbconvert_exporter": "python",
   "pygments_lexer": "ipython3",
   "version": "3.10.8"
  }
 },
 "nbformat": 4,
 "nbformat_minor": 5
}
