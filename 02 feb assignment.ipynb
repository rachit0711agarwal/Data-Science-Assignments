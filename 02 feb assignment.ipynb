{
 "cells": [
  {
   "cell_type": "markdown",
   "id": "63c8a5c8-aa3a-4ade-bcd6-db6a9dc92165",
   "metadata": {},
   "source": [
    "#ANS.1\n",
    "Tuples have the given characteristics:\n",
    "\n",
    "They are indexed\n",
    "Tuples are ordered\n",
    "These are immutable\n",
    "They can contain duplicate items\n",
    "YES, These are immutable"
   ]
  },
  {
   "cell_type": "markdown",
   "id": "0f014e28-6ff2-461d-ae84-added3f2f178",
   "metadata": {},
   "source": [
    "#Ans2\n",
    "Two tuple method are:\n",
    "Python Tuple count()\n",
    "returns count of the element in the tuple\n",
    "\n",
    "Python Tuple index()\n",
    "returns the index of the element in the tuple\n",
    "\n"
   ]
  },
  {
   "cell_type": "code",
   "execution_count": 14,
   "id": "fc9a549e-875a-4c9d-bb17-2efa0828b1e4",
   "metadata": {},
   "outputs": [
    {
     "data": {
      "text/plain": [
       "3"
      ]
     },
     "execution_count": 14,
     "metadata": {},
     "output_type": "execute_result"
    }
   ],
   "source": [
    "t=(1,2,3,'rac','ag')\n",
    "t.index('rac')\n"
   ]
  },
  {
   "cell_type": "code",
   "execution_count": 13,
   "id": "358088f5-4836-42de-8194-80297f81184d",
   "metadata": {},
   "outputs": [
    {
     "data": {
      "text/plain": [
       "1"
      ]
     },
     "execution_count": 13,
     "metadata": {},
     "output_type": "execute_result"
    }
   ],
   "source": [
    "t.count(3)"
   ]
  },
  {
   "cell_type": "markdown",
   "id": "4ae0d880-8395-4ab2-b01f-5fc01609f4ea",
   "metadata": {},
   "source": [
    "'''Tuples in Python have a limited number of built-in methods because tuples are meant to be lightweight and immutable sequences of elements. Unlike lists, which are dynamic and can be modified, tuples are meant to be used for fixed and unchanging data. The limited number of built-in methods for tuples reflects their intended use as simple, efficient containers for data that do not require frequent manipulation'''\n"
   ]
  },
  {
   "cell_type": "markdown",
   "id": "31a85413-c061-4bc0-9fe0-31095a555ae6",
   "metadata": {},
   "source": [
    "#Ans3\n",
    "SET datatype in python do not allow duplicate itens."
   ]
  },
  {
   "cell_type": "code",
   "execution_count": 16,
   "id": "44cc15de-69c4-4156-9569-5f9bdeadb482",
   "metadata": {},
   "outputs": [
    {
     "data": {
      "text/plain": [
       "{1, 2, 3, 4}"
      ]
     },
     "execution_count": 16,
     "metadata": {},
     "output_type": "execute_result"
    }
   ],
   "source": [
    "List = [1, 1, 1, 2, 1, 3, 1, 4, 2, 1, 2, 2, 2, 3, 2, 4, 3, 1, 3, 2, 3, 3, 3, 4, 4, 1, 4, 2, 4, 3, 4, 4]\n",
    "set(List)"
   ]
  },
  {
   "cell_type": "markdown",
   "id": "49d9e22b-e62a-4d39-89b1-229e2e02b054",
   "metadata": {},
   "source": [
    "Ans4\n",
    "The union() and update() methods are used to combine two or more sets in Python, but they work differently.\n",
    "\n",
    "union() method returns a new set that contains all items from the original set, and all items from another set(s) that are not present in the original set. It does not modify the original set. \n",
    "For example:\n",
    "set1 = {1, 2, 3}\n",
    "set2 = {3, 4, 5}\n",
    "set3 = set1.union(set2)\n",
    "print(set3) # output: {1, 2, 3, 4, 5}\n",
    "\n",
    "On the other hand, the update() method adds all elements from one set to another, and the original set is modified.\n",
    "For example:\n",
    "set1 = {1, 2, 3}\n",
    "set2 = {3, 4, 5}\n",
    "set1.update(set2)\n",
    "print(set1) # output: {1, 2, 3, 4, 5}\n",
    "So, the main difference between the union() and update() methods is that union() returns a new set, while update() modifies the original set"
   ]
  },
  {
   "cell_type": "markdown",
   "id": "9ea3859a-10c4-4dca-b07b-e6d3e574d471",
   "metadata": {},
   "source": [
    "Ans5\n",
    "A dictionary in Python is a collection of key-value pairs, where each key is unique and maps to a specific value. .\n",
    "\n",
    "Dictionaries are defined using curly braces {} and each key-value pair is separated by a colon :. The keys in a dictionary must be of an immutable data type, such as strings, numbers, or tuples, while the values can be of any data type\n",
    "\n",
    "d1={'name' : 'Rachit','age' : 26,'city' : 'Agra'}\n",
    "\n",
    "Dictionaries are unordered and mutable, meaning that you can add, modify, or remove elements from a dictionary after it has been created\n"
   ]
  },
  {
   "cell_type": "code",
   "execution_count": 27,
   "id": "db0f4f38-6f2b-4c4c-9ef0-23f704209494",
   "metadata": {},
   "outputs": [],
   "source": [
    "#Ans6 Yes we create the nested dictionary\n",
    "record1={'child1' : { 'name' : 'rachit','age' : 26},'child2' : { 'name' : 'aman','age' : 28}}"
   ]
  },
  {
   "cell_type": "code",
   "execution_count": 28,
   "id": "1187d9e5-4ca1-4b71-85e1-9e6692c5dd60",
   "metadata": {},
   "outputs": [
    {
     "data": {
      "text/plain": [
       "{'child1': {'name': 'rachit', 'age': 26},\n",
       " 'child2': {'name': 'aman', 'age': 28}}"
      ]
     },
     "execution_count": 28,
     "metadata": {},
     "output_type": "execute_result"
    }
   ],
   "source": [
    "record1"
   ]
  },
  {
   "cell_type": "code",
   "execution_count": 32,
   "id": "eeaa0fa3-a417-4994-833c-e254216f1b46",
   "metadata": {},
   "outputs": [
    {
     "name": "stdout",
     "output_type": "stream",
     "text": [
      "{'language': 'Python', 'course': 'Data Science Masters', 'topics': ['Python', 'Machine Learning', 'Deep Learning']}\n"
     ]
    }
   ],
   "source": [
    "#ans7\n",
    "dict1 = {'language' : 'Python', 'course': 'Data Science Masters'}\n",
    "dict1.setdefault('topics',['Python', 'Machine Learning' , 'Deep Learning'])\n",
    "print(dict1)"
   ]
  },
  {
   "cell_type": "markdown",
   "id": "7ae8d02e-7112-4d22-a2fd-1b797a0781ee",
   "metadata": {},
   "source": [
    "#Ans8\n",
    "In dictionaries, there are three view objects: keys(), values(), and items(). These methods return a view of the keys, values, or both keys and values in the dictionary, respectively.\n",
    "\n",
    "Here's how you can use these three in-built methods to display these three view objects for the given dictionary:\n",
    "\n",
    "\n"
   ]
  },
  {
   "cell_type": "code",
   "execution_count": 33,
   "id": "fa494f60-8476-4656-a97a-c03d092a42c5",
   "metadata": {},
   "outputs": [
    {
     "name": "stdout",
     "output_type": "stream",
     "text": [
      "Dictionary Keys:  dict_keys(['Sport', 'Teams'])\n"
     ]
    }
   ],
   "source": [
    "\n",
    "dict1 = {'Sport': 'Cricket' , 'Teams': ['India', 'Australia', 'England', 'South Africa', 'Sri Lanka', 'New Zealand']}\n",
    "\n",
    "# keys()\n",
    "keys = dict1.keys()\n",
    "print(\"Dictionary Keys: \", keys)\n"
   ]
  },
  {
   "cell_type": "code",
   "execution_count": 34,
   "id": "bfb24201-7bb5-4d58-a45b-4480492e597a",
   "metadata": {},
   "outputs": [
    {
     "name": "stdout",
     "output_type": "stream",
     "text": [
      "Dictionary Values:  dict_values(['Cricket', ['India', 'Australia', 'England', 'South Africa', 'Sri Lanka', 'New Zealand']])\n"
     ]
    }
   ],
   "source": [
    "\n",
    "# values()\n",
    "values = dict1.values()\n",
    "print(\"Dictionary Values: \", values)\n"
   ]
  },
  {
   "cell_type": "code",
   "execution_count": 35,
   "id": "db1ab6f9-f0c3-402a-8e34-2c3c6135e61d",
   "metadata": {},
   "outputs": [
    {
     "name": "stdout",
     "output_type": "stream",
     "text": [
      "Dictionary Items:  dict_items([('Sport', 'Cricket'), ('Teams', ['India', 'Australia', 'England', 'South Africa', 'Sri Lanka', 'New Zealand'])])\n"
     ]
    }
   ],
   "source": [
    "\n",
    "# items()\n",
    "items = dict1.items()\n",
    "print(\"Dictionary Items: \", items)"
   ]
  },
  {
   "cell_type": "code",
   "execution_count": null,
   "id": "8b1935d3-06a5-4589-a621-33a3ed09e372",
   "metadata": {},
   "outputs": [],
   "source": []
  }
 ],
 "metadata": {
  "kernelspec": {
   "display_name": "Python 3 (ipykernel)",
   "language": "python",
   "name": "python3"
  },
  "language_info": {
   "codemirror_mode": {
    "name": "ipython",
    "version": 3
   },
   "file_extension": ".py",
   "mimetype": "text/x-python",
   "name": "python",
   "nbconvert_exporter": "python",
   "pygments_lexer": "ipython3",
   "version": "3.10.8"
  }
 },
 "nbformat": 4,
 "nbformat_minor": 5
}
