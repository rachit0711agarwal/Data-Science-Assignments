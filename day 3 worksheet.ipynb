{
 "cells": [
  {
   "cell_type": "code",
   "execution_count": 43,
   "id": "cc426e36-3f88-4bf6-8fe1-22a0d490b185",
   "metadata": {},
   "outputs": [
    {
     "name": "stdout",
     "output_type": "stream",
     "text": [
      "*\n",
      "**\n",
      "***\n",
      "****\n",
      "*****\n",
      "******\n"
     ]
    }
   ],
   "source": [
    "n=6\n",
    "for i in range(0,n):\n",
    "    for j in range (0,i+1):\n",
    "        print('*',end='')\n",
    "    print('')\n",
    "    "
   ]
  },
  {
   "cell_type": "code",
   "execution_count": 125,
   "id": "7606a5e0-4954-4870-992c-e97b6adbc327",
   "metadata": {},
   "outputs": [
    {
     "name": "stdin",
     "output_type": "stream",
     "text": [
      "enter row 6\n"
     ]
    },
    {
     "name": "stdout",
     "output_type": "stream",
     "text": [
      "     *\n",
      "    ***\n",
      "   *****\n",
      "  *******\n",
      " *********\n",
      "***********\n"
     ]
    }
   ],
   "source": [
    "n=int(input('enter row'))\n",
    "y=0\n",
    "for i in range(1, n+1):\n",
    "    print(' '*(n-1), end='') \n",
    "    print('*'*(i+y))\n",
    "    y+=1\n",
    "    \n",
    "    n-=1"
   ]
  },
  {
   "cell_type": "code",
   "execution_count": 103,
   "id": "b25dd996-3add-442a-8603-b637f5d2da7e",
   "metadata": {},
   "outputs": [
    {
     "name": "stdout",
     "output_type": "stream",
     "text": [
      " *\n",
      "\n",
      " * *\n",
      "\n",
      " * * *\n",
      "\n",
      " * * * *\n",
      "\n",
      " * * * * *\n",
      "\n",
      " * * * * * *\n",
      "\n",
      " * * * * * * *\n",
      "\n",
      " * * * * * * * *\n",
      "\n",
      " * * * * * * * * *\n",
      "\n",
      " * * * * * * * * * *\n",
      "\n",
      " * * * * * * * * * * *\n",
      "\n"
     ]
    }
   ],
   "source": [
    "n=24\n",
    "for i in range(1,12):\n",
    "    print(' *'*i,end='')\n",
    "    print('\\n')\n",
    "    "
   ]
  },
  {
   "cell_type": "code",
   "execution_count": null,
   "id": "29e73c5b-5c65-4ccf-be87-a64b7cd1695f",
   "metadata": {},
   "outputs": [],
   "source": [
    "n=24\n",
    "for i in range(1,12):\n",
    "    print(' *'*i,end='')\n",
    "    print('\\n')\n",
    "    if i==11:\n",
    "        print(' #'*(i-1),end='')\n",
    "        print('\\n')\n",
    "        i=i-1"
   ]
  },
  {
   "cell_type": "code",
   "execution_count": 5,
   "id": "35e50972-a499-4f68-a2ca-d00f83708089",
   "metadata": {},
   "outputs": [],
   "source": [
    "a=25\n",
    "b=101"
   ]
  },
  {
   "cell_type": "code",
   "execution_count": 7,
   "id": "320aed42-0305-4145-ba44-e1090769786e",
   "metadata": {},
   "outputs": [
    {
     "data": {
      "text/plain": [
       "25"
      ]
     },
     "execution_count": 7,
     "metadata": {},
     "output_type": "execute_result"
    }
   ],
   "source": [
    "a%b"
   ]
  },
  {
   "cell_type": "code",
   "execution_count": 8,
   "id": "5d1d0248-3d9a-4aa3-8484-be16e97f066e",
   "metadata": {},
   "outputs": [
    {
     "data": {
      "text/plain": [
       "'0b1100101'"
      ]
     },
     "execution_count": 8,
     "metadata": {},
     "output_type": "execute_result"
    }
   ],
   "source": [
    "bin(b)"
   ]
  },
  {
   "cell_type": "code",
   "execution_count": 9,
   "id": "bf76b5c2-cf6f-477b-9f68-1d28c1165f3c",
   "metadata": {},
   "outputs": [],
   "source": [
    "c=125"
   ]
  },
  {
   "cell_type": "code",
   "execution_count": 10,
   "id": "29efcb0d-2999-4c09-9a4b-5dab099c2431",
   "metadata": {},
   "outputs": [
    {
     "data": {
      "text/plain": [
       "'0b1111101'"
      ]
     },
     "execution_count": 10,
     "metadata": {},
     "output_type": "execute_result"
    }
   ],
   "source": [
    "bin(c)"
   ]
  },
  {
   "cell_type": "code",
   "execution_count": 13,
   "id": "96b2121c-658b-45e2-ab97-16d2b11de3f5",
   "metadata": {},
   "outputs": [
    {
     "data": {
      "text/plain": [
       "'0b11001101'"
      ]
     },
     "execution_count": 13,
     "metadata": {},
     "output_type": "execute_result"
    }
   ],
   "source": [
    "f=205\n",
    "bin(f)"
   ]
  },
  {
   "cell_type": "code",
   "execution_count": 14,
   "id": "fd3843da-8f70-410d-99ad-3d47ac4b370b",
   "metadata": {},
   "outputs": [
    {
     "data": {
      "text/plain": [
       "-14"
      ]
     },
     "execution_count": 14,
     "metadata": {},
     "output_type": "execute_result"
    }
   ],
   "source": [
    "~13"
   ]
  },
  {
   "cell_type": "code",
   "execution_count": 15,
   "id": "899c3305-854c-45de-aacc-149a25546265",
   "metadata": {},
   "outputs": [
    {
     "data": {
      "text/plain": [
       "12"
      ]
     },
     "execution_count": 15,
     "metadata": {},
     "output_type": "execute_result"
    }
   ],
   "source": [
    "12&14"
   ]
  },
  {
   "cell_type": "code",
   "execution_count": 17,
   "id": "5f26a5fc-3b4f-4f1c-9fa7-52ba3297257e",
   "metadata": {},
   "outputs": [
    {
     "data": {
      "text/plain": [
       "14"
      ]
     },
     "execution_count": 17,
     "metadata": {},
     "output_type": "execute_result"
    }
   ],
   "source": [
    "12|14"
   ]
  },
  {
   "cell_type": "code",
   "execution_count": 18,
   "id": "1f672584-7d17-4ebf-887f-d2f58fcdd13a",
   "metadata": {},
   "outputs": [
    {
     "data": {
      "text/plain": [
       "2"
      ]
     },
     "execution_count": 18,
     "metadata": {},
     "output_type": "execute_result"
    }
   ],
   "source": [
    "12^14"
   ]
  },
  {
   "cell_type": "code",
   "execution_count": 19,
   "id": "cbf2b587-1c77-4278-9c30-49196d2988e2",
   "metadata": {},
   "outputs": [
    {
     "data": {
      "text/plain": [
       "48"
      ]
     },
     "execution_count": 19,
     "metadata": {},
     "output_type": "execute_result"
    }
   ],
   "source": [
    "12<<2"
   ]
  },
  {
   "cell_type": "code",
   "execution_count": 4,
   "id": "793f535a-086d-42f9-bf53-31557ddf501a",
   "metadata": {},
   "outputs": [
    {
     "data": {
      "text/plain": [
       "3"
      ]
     },
     "execution_count": 4,
     "metadata": {},
     "output_type": "execute_result"
    }
   ],
   "source": [
    "12>>2"
   ]
  },
  {
   "cell_type": "code",
   "execution_count": 3,
   "id": "2b9bb166-5853-4fb1-997f-00b0f479364d",
   "metadata": {},
   "outputs": [],
   "source": [
    "str1='rachit'\n",
    "        "
   ]
  },
  {
   "cell_type": "code",
   "execution_count": 6,
   "id": "d7cb49f0-e803-4380-886e-f87662bf7ec5",
   "metadata": {},
   "outputs": [
    {
     "data": {
      "text/plain": [
       "['__add__',\n",
       " '__class__',\n",
       " '__contains__',\n",
       " '__delattr__',\n",
       " '__dir__',\n",
       " '__doc__',\n",
       " '__eq__',\n",
       " '__format__',\n",
       " '__ge__',\n",
       " '__getattribute__',\n",
       " '__getitem__',\n",
       " '__getnewargs__',\n",
       " '__gt__',\n",
       " '__hash__',\n",
       " '__init__',\n",
       " '__init_subclass__',\n",
       " '__iter__',\n",
       " '__le__',\n",
       " '__len__',\n",
       " '__lt__',\n",
       " '__mod__',\n",
       " '__mul__',\n",
       " '__ne__',\n",
       " '__new__',\n",
       " '__reduce__',\n",
       " '__reduce_ex__',\n",
       " '__repr__',\n",
       " '__rmod__',\n",
       " '__rmul__',\n",
       " '__setattr__',\n",
       " '__sizeof__',\n",
       " '__str__',\n",
       " '__subclasshook__',\n",
       " 'capitalize',\n",
       " 'casefold',\n",
       " 'center',\n",
       " 'count',\n",
       " 'encode',\n",
       " 'endswith',\n",
       " 'expandtabs',\n",
       " 'find',\n",
       " 'format',\n",
       " 'format_map',\n",
       " 'index',\n",
       " 'isalnum',\n",
       " 'isalpha',\n",
       " 'isascii',\n",
       " 'isdecimal',\n",
       " 'isdigit',\n",
       " 'isidentifier',\n",
       " 'islower',\n",
       " 'isnumeric',\n",
       " 'isprintable',\n",
       " 'isspace',\n",
       " 'istitle',\n",
       " 'isupper',\n",
       " 'join',\n",
       " 'ljust',\n",
       " 'lower',\n",
       " 'lstrip',\n",
       " 'maketrans',\n",
       " 'partition',\n",
       " 'removeprefix',\n",
       " 'removesuffix',\n",
       " 'replace',\n",
       " 'rfind',\n",
       " 'rindex',\n",
       " 'rjust',\n",
       " 'rpartition',\n",
       " 'rsplit',\n",
       " 'rstrip',\n",
       " 'split',\n",
       " 'splitlines',\n",
       " 'startswith',\n",
       " 'strip',\n",
       " 'swapcase',\n",
       " 'title',\n",
       " 'translate',\n",
       " 'upper',\n",
       " 'zfill']"
      ]
     },
     "execution_count": 6,
     "metadata": {},
     "output_type": "execute_result"
    }
   ],
   "source": [
    "dir('rachit')"
   ]
  },
  {
   "cell_type": "code",
   "execution_count": 7,
   "id": "32000e69-129b-43c3-bc34-73c7a9d5f4cb",
   "metadata": {},
   "outputs": [],
   "source": [
    "str1='rachit agarwal'"
   ]
  },
  {
   "cell_type": "code",
   "execution_count": 8,
   "id": "16e5df82-9dcb-4591-9861-dd4de06c79ae",
   "metadata": {},
   "outputs": [
    {
     "data": {
      "text/plain": [
       "'h'"
      ]
     },
     "execution_count": 8,
     "metadata": {},
     "output_type": "execute_result"
    }
   ],
   "source": [
    "str1[3]"
   ]
  },
  {
   "cell_type": "code",
   "execution_count": 11,
   "id": "c2e65183-0a3c-40a2-bb60-c50a4ed25b79",
   "metadata": {},
   "outputs": [
    {
     "data": {
      "text/plain": [
       "'hit agarwal'"
      ]
     },
     "execution_count": 11,
     "metadata": {},
     "output_type": "execute_result"
    }
   ],
   "source": [
    "str1[3:] #slice operation"
   ]
  },
  {
   "cell_type": "code",
   "execution_count": 10,
   "id": "f90ca412-39d1-4c05-a4cf-aa0f9a6e8ad0",
   "metadata": {},
   "outputs": [
    {
     "data": {
      "text/plain": [
       "'hit a'"
      ]
     },
     "execution_count": 10,
     "metadata": {},
     "output_type": "execute_result"
    }
   ],
   "source": [
    "str1[3:8]"
   ]
  },
  {
   "cell_type": "code",
   "execution_count": 12,
   "id": "f8cd7837-2966-4e11-92e9-a90d151c792c",
   "metadata": {},
   "outputs": [
    {
     "data": {
      "text/plain": [
       "'l'"
      ]
     },
     "execution_count": 12,
     "metadata": {},
     "output_type": "execute_result"
    }
   ],
   "source": [
    "str1[-1]"
   ]
  },
  {
   "cell_type": "code",
   "execution_count": 14,
   "id": "98bbe60c-a8ea-4387-b1a3-9c2ef78cbda7",
   "metadata": {},
   "outputs": [
    {
     "data": {
      "text/plain": [
       "''"
      ]
     },
     "execution_count": 14,
     "metadata": {},
     "output_type": "execute_result"
    }
   ],
   "source": [
    "str1[-1:-4]"
   ]
  },
  {
   "cell_type": "code",
   "execution_count": 15,
   "id": "cabe036a-4065-41b2-9f40-a0481c493ceb",
   "metadata": {},
   "outputs": [
    {
     "data": {
      "text/plain": [
       "'it agarwa'"
      ]
     },
     "execution_count": 15,
     "metadata": {},
     "output_type": "execute_result"
    }
   ],
   "source": [
    "str1[4:-1]"
   ]
  },
  {
   "cell_type": "code",
   "execution_count": 17,
   "id": "bf9c9f46-e4ce-4168-aa68-db0e352a43aa",
   "metadata": {},
   "outputs": [
    {
     "data": {
      "text/plain": [
       "''"
      ]
     },
     "execution_count": 17,
     "metadata": {},
     "output_type": "execute_result"
    }
   ],
   "source": [
    "str1[3:-0]"
   ]
  },
  {
   "cell_type": "code",
   "execution_count": 20,
   "id": "aa8fdfe7-7d2c-41ab-97f6-a69568290bb5",
   "metadata": {},
   "outputs": [
    {
     "data": {
      "text/plain": [
       "'rachit agarwa'"
      ]
     },
     "execution_count": 20,
     "metadata": {},
     "output_type": "execute_result"
    }
   ],
   "source": [
    "str1[:-1]"
   ]
  },
  {
   "cell_type": "code",
   "execution_count": 21,
   "id": "01a32447-61e3-4062-886b-0860d0692e09",
   "metadata": {},
   "outputs": [
    {
     "data": {
      "text/plain": [
       "'rachit agarwal'"
      ]
     },
     "execution_count": 21,
     "metadata": {},
     "output_type": "execute_result"
    }
   ],
   "source": [
    "str1[:]"
   ]
  },
  {
   "cell_type": "code",
   "execution_count": 22,
   "id": "8958e715-00ac-4dc1-b6e0-c9e4693f2831",
   "metadata": {},
   "outputs": [
    {
     "data": {
      "text/plain": [
       "'rachit agarwal'"
      ]
     },
     "execution_count": 22,
     "metadata": {},
     "output_type": "execute_result"
    }
   ],
   "source": [
    "str1[::]"
   ]
  },
  {
   "cell_type": "code",
   "execution_count": 23,
   "id": "fadaa17d-4a34-4ef8-8bb9-8beff5d26535",
   "metadata": {},
   "outputs": [
    {
     "data": {
      "text/plain": [
       "'lawraga tihcar'"
      ]
     },
     "execution_count": 23,
     "metadata": {},
     "output_type": "execute_result"
    }
   ],
   "source": [
    "str1[::-1]"
   ]
  },
  {
   "cell_type": "code",
   "execution_count": 24,
   "id": "efafe0bb-8805-4d53-b643-335251d1ba18",
   "metadata": {},
   "outputs": [
    {
     "data": {
      "text/plain": [
       "'lwaatha'"
      ]
     },
     "execution_count": 24,
     "metadata": {},
     "output_type": "execute_result"
    }
   ],
   "source": [
    "str1[::-2]"
   ]
  },
  {
   "cell_type": "code",
   "execution_count": 25,
   "id": "688772c9-d362-4625-86c5-16306871eee4",
   "metadata": {},
   "outputs": [
    {
     "data": {
      "text/plain": [
       "'achit agarwal'"
      ]
     },
     "execution_count": 25,
     "metadata": {},
     "output_type": "execute_result"
    }
   ],
   "source": [
    "str1[1::]"
   ]
  },
  {
   "cell_type": "code",
   "execution_count": 26,
   "id": "98dd5dbc-4c00-4706-8726-7278a16858c3",
   "metadata": {},
   "outputs": [
    {
     "data": {
      "text/plain": [
       "'chit agarwal'"
      ]
     },
     "execution_count": 26,
     "metadata": {},
     "output_type": "execute_result"
    }
   ],
   "source": [
    "str1[2::]"
   ]
  },
  {
   "cell_type": "code",
   "execution_count": 28,
   "id": "9321736b-022d-40dd-a554-9449ed8c4e74",
   "metadata": {},
   "outputs": [
    {
     "data": {
      "text/plain": [
       "'car'"
      ]
     },
     "execution_count": 28,
     "metadata": {},
     "output_type": "execute_result"
    }
   ],
   "source": [
    "str1[2::-1]"
   ]
  },
  {
   "cell_type": "code",
   "execution_count": null,
   "id": "d7271734-ab8d-4baa-8938-a77ccc9780cf",
   "metadata": {},
   "outputs": [],
   "source": []
  },
  {
   "cell_type": "code",
   "execution_count": 31,
   "id": "3e330fa7-2282-4860-917a-19cfb93a9045",
   "metadata": {},
   "outputs": [
    {
     "data": {
      "text/plain": [
       "'a ti'"
      ]
     },
     "execution_count": 31,
     "metadata": {},
     "output_type": "execute_result"
    }
   ],
   "source": [
    "str1[7:3:-1]"
   ]
  },
  {
   "cell_type": "code",
   "execution_count": 46,
   "id": "c4f26fee-6433-4cc8-9402-a1fd5033bee2",
   "metadata": {},
   "outputs": [
    {
     "data": {
      "text/plain": [
       "'science'"
      ]
     },
     "execution_count": 46,
     "metadata": {},
     "output_type": "execute_result"
    }
   ],
   "source": [
    "a='data science masters'\n",
    "a[5:12]"
   ]
  },
  {
   "cell_type": "code",
   "execution_count": 48,
   "id": "5c62f7d6-81fb-4adc-93d7-bf85d18769b7",
   "metadata": {},
   "outputs": [
    {
     "data": {
      "text/plain": [
       "'ecneics'"
      ]
     },
     "execution_count": 48,
     "metadata": {},
     "output_type": "execute_result"
    }
   ],
   "source": [
    "a[-9:-16:-1]"
   ]
  },
  {
   "cell_type": "code",
   "execution_count": 49,
   "id": "cbb9aeb9-3209-43b2-85a5-97ac3d4534ad",
   "metadata": {},
   "outputs": [
    {
     "data": {
      "text/plain": [
       "'data science mastershello'"
      ]
     },
     "execution_count": 49,
     "metadata": {},
     "output_type": "execute_result"
    }
   ],
   "source": [
    "a +'hello'"
   ]
  },
  {
   "cell_type": "code",
   "execution_count": 50,
   "id": "9d11f1d1-ac0f-4fb0-ba34-c475de6538dd",
   "metadata": {},
   "outputs": [
    {
     "data": {
      "text/plain": [
       "'data science mastersdata science masters'"
      ]
     },
     "execution_count": 50,
     "metadata": {},
     "output_type": "execute_result"
    }
   ],
   "source": [
    "a*2"
   ]
  },
  {
   "cell_type": "code",
   "execution_count": 51,
   "id": "92e09bd9-65d1-4501-a90b-3faa9d922348",
   "metadata": {},
   "outputs": [
    {
     "data": {
      "text/plain": [
       "20"
      ]
     },
     "execution_count": 51,
     "metadata": {},
     "output_type": "execute_result"
    }
   ],
   "source": [
    "len(a)"
   ]
  },
  {
   "cell_type": "code",
   "execution_count": 52,
   "id": "f9312937-7055-40c8-bab3-8fe470cc0a43",
   "metadata": {},
   "outputs": [
    {
     "data": {
      "text/plain": [
       "5"
      ]
     },
     "execution_count": 52,
     "metadata": {},
     "output_type": "execute_result"
    }
   ],
   "source": [
    "a.find('s')"
   ]
  },
  {
   "cell_type": "code",
   "execution_count": 54,
   "id": "6861035e-7bcb-46bd-8a92-8c4b28c71f99",
   "metadata": {},
   "outputs": [
    {
     "data": {
      "text/plain": [
       "7"
      ]
     },
     "execution_count": 54,
     "metadata": {},
     "output_type": "execute_result"
    }
   ],
   "source": [
    "a.find('i',5,10)"
   ]
  },
  {
   "cell_type": "code",
   "execution_count": 55,
   "id": "9c4eb754-3474-458c-88c7-dddab5381161",
   "metadata": {},
   "outputs": [
    {
     "data": {
      "text/plain": [
       "-1"
      ]
     },
     "execution_count": 55,
     "metadata": {},
     "output_type": "execute_result"
    }
   ],
   "source": [
    "a.find('y')"
   ]
  },
  {
   "cell_type": "code",
   "execution_count": 56,
   "id": "b23d7041-07bf-4e68-bb61-57a570631204",
   "metadata": {},
   "outputs": [
    {
     "data": {
      "text/plain": [
       "1"
      ]
     },
     "execution_count": 56,
     "metadata": {},
     "output_type": "execute_result"
    }
   ],
   "source": [
    "a.count('d')"
   ]
  },
  {
   "cell_type": "code",
   "execution_count": 63,
   "id": "7c8d5b89-0cad-457a-b142-e46dee25d4d2",
   "metadata": {},
   "outputs": [
    {
     "data": {
      "text/plain": [
       "['data', 'science', 'masters']"
      ]
     },
     "execution_count": 63,
     "metadata": {},
     "output_type": "execute_result"
    }
   ],
   "source": [
    "a.split(' ')"
   ]
  },
  {
   "cell_type": "code",
   "execution_count": 64,
   "id": "daef7540-6f28-44cd-8f2d-e7cec8894744",
   "metadata": {},
   "outputs": [
    {
     "data": {
      "text/plain": [
       "['d', 't', ' science m', 'sters']"
      ]
     },
     "execution_count": 64,
     "metadata": {},
     "output_type": "execute_result"
    }
   ],
   "source": [
    "a.split('a')"
   ]
  },
  {
   "cell_type": "code",
   "execution_count": 66,
   "id": "8799edf8-2e0c-490e-a56d-457b27df15ed",
   "metadata": {},
   "outputs": [
    {
     "data": {
      "text/plain": [
       "['d', 't', ' science m', 'sters']"
      ]
     },
     "execution_count": 66,
     "metadata": {},
     "output_type": "execute_result"
    }
   ],
   "source": [
    "a.split('a')"
   ]
  },
  {
   "cell_type": "code",
   "execution_count": 67,
   "id": "a413e029-6045-41a4-b75c-82515c5045d0",
   "metadata": {},
   "outputs": [
    {
     "data": {
      "text/plain": [
       "('data s', 'c', 'ience masters')"
      ]
     },
     "execution_count": 67,
     "metadata": {},
     "output_type": "execute_result"
    }
   ],
   "source": [
    "a.partition('c')"
   ]
  },
  {
   "cell_type": "code",
   "execution_count": 68,
   "id": "dd345f64-47bc-4bd7-96a7-ff345014325c",
   "metadata": {},
   "outputs": [
    {
     "data": {
      "text/plain": [
       "'DATA SCIENCE MASTERS'"
      ]
     },
     "execution_count": 68,
     "metadata": {},
     "output_type": "execute_result"
    }
   ],
   "source": [
    "a.upper()"
   ]
  },
  {
   "cell_type": "code",
   "execution_count": 69,
   "id": "250f3333-723f-4ec4-abf1-719a2256d030",
   "metadata": {},
   "outputs": [
    {
     "data": {
      "text/plain": [
       "'data science masters'"
      ]
     },
     "execution_count": 69,
     "metadata": {},
     "output_type": "execute_result"
    }
   ],
   "source": [
    "a.lower()"
   ]
  },
  {
   "cell_type": "code",
   "execution_count": 72,
   "id": "7db09aea-f95d-4e87-baf0-c28b8326ab3a",
   "metadata": {},
   "outputs": [],
   "source": [
    "b='DaTa sCIEnce MaStErS'"
   ]
  },
  {
   "cell_type": "code",
   "execution_count": 73,
   "id": "d540e9db-e30d-453a-8a10-e9d64301bb0d",
   "metadata": {},
   "outputs": [
    {
     "data": {
      "text/plain": [
       "'dAtA ScieNCE mAsTeRs'"
      ]
     },
     "execution_count": 73,
     "metadata": {},
     "output_type": "execute_result"
    }
   ],
   "source": [
    "b.swapcase()"
   ]
  },
  {
   "cell_type": "code",
   "execution_count": 74,
   "id": "5035ad7e-aeae-4cd4-bfd3-174e21e134d8",
   "metadata": {},
   "outputs": [
    {
     "data": {
      "text/plain": [
       "'data science masters'"
      ]
     },
     "execution_count": 74,
     "metadata": {},
     "output_type": "execute_result"
    }
   ],
   "source": [
    "a"
   ]
  },
  {
   "cell_type": "code",
   "execution_count": 75,
   "id": "7803f3a3-bbab-420c-9846-c6b3e9707018",
   "metadata": {},
   "outputs": [
    {
     "data": {
      "text/plain": [
       "'Data Science Masters'"
      ]
     },
     "execution_count": 75,
     "metadata": {},
     "output_type": "execute_result"
    }
   ],
   "source": [
    "a.title()"
   ]
  },
  {
   "cell_type": "code",
   "execution_count": 77,
   "id": "ecd2d35f-1ae9-4b23-b1e3-18c39685c4f6",
   "metadata": {},
   "outputs": [
    {
     "data": {
      "text/plain": [
       "'Data Science Masters'"
      ]
     },
     "execution_count": 77,
     "metadata": {},
     "output_type": "execute_result"
    }
   ],
   "source": [
    "a.title()"
   ]
  },
  {
   "cell_type": "code",
   "execution_count": null,
   "id": "51d1f26a-3b4b-41a6-9a99-b281437db19a",
   "metadata": {},
   "outputs": [],
   "source": []
  }
 ],
 "metadata": {
  "kernelspec": {
   "display_name": "Python 3 (ipykernel)",
   "language": "python",
   "name": "python3"
  },
  "language_info": {
   "codemirror_mode": {
    "name": "ipython",
    "version": 3
   },
   "file_extension": ".py",
   "mimetype": "text/x-python",
   "name": "python",
   "nbconvert_exporter": "python",
   "pygments_lexer": "ipython3",
   "version": "3.10.8"
  }
 },
 "nbformat": 4,
 "nbformat_minor": 5
}
